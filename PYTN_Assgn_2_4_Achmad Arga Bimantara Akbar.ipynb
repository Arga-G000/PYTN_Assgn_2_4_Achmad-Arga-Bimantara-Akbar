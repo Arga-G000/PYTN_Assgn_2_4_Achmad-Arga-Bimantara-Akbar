{
 "cells": [
  {
   "cell_type": "markdown",
   "id": "33336baf",
   "metadata": {},
   "source": [
    "# Library"
   ]
  },
  {
   "cell_type": "code",
   "execution_count": 1,
   "id": "39b05eed",
   "metadata": {},
   "outputs": [],
   "source": [
    "import pandas as pd                                #primary data structure library\n",
    "import numpy as np                                 #library scientific computing in python\n",
    "import matplotlib.pyplot as plt                    #For plotting\n",
    "%matplotlib inline\n",
    "import seaborn as sns\n",
    "import scipy.stats\n",
    "import statsmodels.api as sm\n",
    "pd.set_option(\"display.max.columns\", None)"
   ]
  },
  {
   "cell_type": "markdown",
   "id": "6ecfea6c",
   "metadata": {},
   "source": [
    "# Load Data"
   ]
  },
  {
   "cell_type": "code",
   "execution_count": 2,
   "id": "f53dcda3",
   "metadata": {},
   "outputs": [
    {
     "data": {
      "text/html": [
       "<div>\n",
       "<style scoped>\n",
       "    .dataframe tbody tr th:only-of-type {\n",
       "        vertical-align: middle;\n",
       "    }\n",
       "\n",
       "    .dataframe tbody tr th {\n",
       "        vertical-align: top;\n",
       "    }\n",
       "\n",
       "    .dataframe thead th {\n",
       "        text-align: right;\n",
       "    }\n",
       "</style>\n",
       "<table border=\"1\" class=\"dataframe\">\n",
       "  <thead>\n",
       "    <tr style=\"text-align: right;\">\n",
       "      <th></th>\n",
       "      <th>Unnamed: 0</th>\n",
       "      <th>BOROUGH</th>\n",
       "      <th>NEIGHBORHOOD</th>\n",
       "      <th>BUILDING CLASS CATEGORY</th>\n",
       "      <th>TAX CLASS AT PRESENT</th>\n",
       "      <th>BLOCK</th>\n",
       "      <th>LOT</th>\n",
       "      <th>EASE-MENT</th>\n",
       "      <th>BUILDING CLASS AT PRESENT</th>\n",
       "      <th>ADDRESS</th>\n",
       "      <th>APARTMENT NUMBER</th>\n",
       "      <th>ZIP CODE</th>\n",
       "      <th>RESIDENTIAL UNITS</th>\n",
       "      <th>COMMERCIAL UNITS</th>\n",
       "      <th>TOTAL UNITS</th>\n",
       "      <th>LAND SQUARE FEET</th>\n",
       "      <th>GROSS SQUARE FEET</th>\n",
       "      <th>YEAR BUILT</th>\n",
       "      <th>TAX CLASS AT TIME OF SALE</th>\n",
       "      <th>BUILDING CLASS AT TIME OF SALE</th>\n",
       "      <th>SALE PRICE</th>\n",
       "      <th>SALE DATE</th>\n",
       "    </tr>\n",
       "  </thead>\n",
       "  <tbody>\n",
       "    <tr>\n",
       "      <th>0</th>\n",
       "      <td>4</td>\n",
       "      <td>1</td>\n",
       "      <td>ALPHABET CITY</td>\n",
       "      <td>07 RENTALS - WALKUP APARTMENTS</td>\n",
       "      <td>2A</td>\n",
       "      <td>392</td>\n",
       "      <td>6</td>\n",
       "      <td></td>\n",
       "      <td>C2</td>\n",
       "      <td>153 AVENUE B</td>\n",
       "      <td></td>\n",
       "      <td>10009</td>\n",
       "      <td>5</td>\n",
       "      <td>0</td>\n",
       "      <td>5</td>\n",
       "      <td>1633</td>\n",
       "      <td>6440</td>\n",
       "      <td>1900</td>\n",
       "      <td>2</td>\n",
       "      <td>C2</td>\n",
       "      <td>6625000</td>\n",
       "      <td>2017-07-19 00:00:00</td>\n",
       "    </tr>\n",
       "    <tr>\n",
       "      <th>1</th>\n",
       "      <td>5</td>\n",
       "      <td>1</td>\n",
       "      <td>ALPHABET CITY</td>\n",
       "      <td>07 RENTALS - WALKUP APARTMENTS</td>\n",
       "      <td>2</td>\n",
       "      <td>399</td>\n",
       "      <td>26</td>\n",
       "      <td></td>\n",
       "      <td>C7</td>\n",
       "      <td>234 EAST 4TH   STREET</td>\n",
       "      <td></td>\n",
       "      <td>10009</td>\n",
       "      <td>28</td>\n",
       "      <td>3</td>\n",
       "      <td>31</td>\n",
       "      <td>4616</td>\n",
       "      <td>18690</td>\n",
       "      <td>1900</td>\n",
       "      <td>2</td>\n",
       "      <td>C7</td>\n",
       "      <td>-</td>\n",
       "      <td>2016-12-14 00:00:00</td>\n",
       "    </tr>\n",
       "    <tr>\n",
       "      <th>2</th>\n",
       "      <td>6</td>\n",
       "      <td>1</td>\n",
       "      <td>ALPHABET CITY</td>\n",
       "      <td>07 RENTALS - WALKUP APARTMENTS</td>\n",
       "      <td>2</td>\n",
       "      <td>399</td>\n",
       "      <td>39</td>\n",
       "      <td></td>\n",
       "      <td>C7</td>\n",
       "      <td>197 EAST 3RD   STREET</td>\n",
       "      <td></td>\n",
       "      <td>10009</td>\n",
       "      <td>16</td>\n",
       "      <td>1</td>\n",
       "      <td>17</td>\n",
       "      <td>2212</td>\n",
       "      <td>7803</td>\n",
       "      <td>1900</td>\n",
       "      <td>2</td>\n",
       "      <td>C7</td>\n",
       "      <td>-</td>\n",
       "      <td>2016-12-09 00:00:00</td>\n",
       "    </tr>\n",
       "    <tr>\n",
       "      <th>3</th>\n",
       "      <td>7</td>\n",
       "      <td>1</td>\n",
       "      <td>ALPHABET CITY</td>\n",
       "      <td>07 RENTALS - WALKUP APARTMENTS</td>\n",
       "      <td>2B</td>\n",
       "      <td>402</td>\n",
       "      <td>21</td>\n",
       "      <td></td>\n",
       "      <td>C4</td>\n",
       "      <td>154 EAST 7TH STREET</td>\n",
       "      <td></td>\n",
       "      <td>10009</td>\n",
       "      <td>10</td>\n",
       "      <td>0</td>\n",
       "      <td>10</td>\n",
       "      <td>2272</td>\n",
       "      <td>6794</td>\n",
       "      <td>1913</td>\n",
       "      <td>2</td>\n",
       "      <td>C4</td>\n",
       "      <td>3936272</td>\n",
       "      <td>2016-09-23 00:00:00</td>\n",
       "    </tr>\n",
       "    <tr>\n",
       "      <th>4</th>\n",
       "      <td>8</td>\n",
       "      <td>1</td>\n",
       "      <td>ALPHABET CITY</td>\n",
       "      <td>07 RENTALS - WALKUP APARTMENTS</td>\n",
       "      <td>2A</td>\n",
       "      <td>404</td>\n",
       "      <td>55</td>\n",
       "      <td></td>\n",
       "      <td>C2</td>\n",
       "      <td>301 EAST 10TH   STREET</td>\n",
       "      <td></td>\n",
       "      <td>10009</td>\n",
       "      <td>6</td>\n",
       "      <td>0</td>\n",
       "      <td>6</td>\n",
       "      <td>2369</td>\n",
       "      <td>4615</td>\n",
       "      <td>1900</td>\n",
       "      <td>2</td>\n",
       "      <td>C2</td>\n",
       "      <td>8000000</td>\n",
       "      <td>2016-11-17 00:00:00</td>\n",
       "    </tr>\n",
       "    <tr>\n",
       "      <th>...</th>\n",
       "      <td>...</td>\n",
       "      <td>...</td>\n",
       "      <td>...</td>\n",
       "      <td>...</td>\n",
       "      <td>...</td>\n",
       "      <td>...</td>\n",
       "      <td>...</td>\n",
       "      <td>...</td>\n",
       "      <td>...</td>\n",
       "      <td>...</td>\n",
       "      <td>...</td>\n",
       "      <td>...</td>\n",
       "      <td>...</td>\n",
       "      <td>...</td>\n",
       "      <td>...</td>\n",
       "      <td>...</td>\n",
       "      <td>...</td>\n",
       "      <td>...</td>\n",
       "      <td>...</td>\n",
       "      <td>...</td>\n",
       "      <td>...</td>\n",
       "      <td>...</td>\n",
       "    </tr>\n",
       "    <tr>\n",
       "      <th>84543</th>\n",
       "      <td>8409</td>\n",
       "      <td>5</td>\n",
       "      <td>WOODROW</td>\n",
       "      <td>02 TWO FAMILY DWELLINGS</td>\n",
       "      <td>1</td>\n",
       "      <td>7349</td>\n",
       "      <td>34</td>\n",
       "      <td></td>\n",
       "      <td>B9</td>\n",
       "      <td>37 QUAIL LANE</td>\n",
       "      <td></td>\n",
       "      <td>10309</td>\n",
       "      <td>2</td>\n",
       "      <td>0</td>\n",
       "      <td>2</td>\n",
       "      <td>2400</td>\n",
       "      <td>2575</td>\n",
       "      <td>1998</td>\n",
       "      <td>1</td>\n",
       "      <td>B9</td>\n",
       "      <td>450000</td>\n",
       "      <td>2016-11-28 00:00:00</td>\n",
       "    </tr>\n",
       "    <tr>\n",
       "      <th>84544</th>\n",
       "      <td>8410</td>\n",
       "      <td>5</td>\n",
       "      <td>WOODROW</td>\n",
       "      <td>02 TWO FAMILY DWELLINGS</td>\n",
       "      <td>1</td>\n",
       "      <td>7349</td>\n",
       "      <td>78</td>\n",
       "      <td></td>\n",
       "      <td>B9</td>\n",
       "      <td>32 PHEASANT LANE</td>\n",
       "      <td></td>\n",
       "      <td>10309</td>\n",
       "      <td>2</td>\n",
       "      <td>0</td>\n",
       "      <td>2</td>\n",
       "      <td>2498</td>\n",
       "      <td>2377</td>\n",
       "      <td>1998</td>\n",
       "      <td>1</td>\n",
       "      <td>B9</td>\n",
       "      <td>550000</td>\n",
       "      <td>2017-04-21 00:00:00</td>\n",
       "    </tr>\n",
       "    <tr>\n",
       "      <th>84545</th>\n",
       "      <td>8411</td>\n",
       "      <td>5</td>\n",
       "      <td>WOODROW</td>\n",
       "      <td>02 TWO FAMILY DWELLINGS</td>\n",
       "      <td>1</td>\n",
       "      <td>7351</td>\n",
       "      <td>60</td>\n",
       "      <td></td>\n",
       "      <td>B2</td>\n",
       "      <td>49 PITNEY AVENUE</td>\n",
       "      <td></td>\n",
       "      <td>10309</td>\n",
       "      <td>2</td>\n",
       "      <td>0</td>\n",
       "      <td>2</td>\n",
       "      <td>4000</td>\n",
       "      <td>1496</td>\n",
       "      <td>1925</td>\n",
       "      <td>1</td>\n",
       "      <td>B2</td>\n",
       "      <td>460000</td>\n",
       "      <td>2017-07-05 00:00:00</td>\n",
       "    </tr>\n",
       "    <tr>\n",
       "      <th>84546</th>\n",
       "      <td>8412</td>\n",
       "      <td>5</td>\n",
       "      <td>WOODROW</td>\n",
       "      <td>22 STORE BUILDINGS</td>\n",
       "      <td>4</td>\n",
       "      <td>7100</td>\n",
       "      <td>28</td>\n",
       "      <td></td>\n",
       "      <td>K6</td>\n",
       "      <td>2730 ARTHUR KILL ROAD</td>\n",
       "      <td></td>\n",
       "      <td>10309</td>\n",
       "      <td>0</td>\n",
       "      <td>7</td>\n",
       "      <td>7</td>\n",
       "      <td>208033</td>\n",
       "      <td>64117</td>\n",
       "      <td>2001</td>\n",
       "      <td>4</td>\n",
       "      <td>K6</td>\n",
       "      <td>11693337</td>\n",
       "      <td>2016-12-21 00:00:00</td>\n",
       "    </tr>\n",
       "    <tr>\n",
       "      <th>84547</th>\n",
       "      <td>8413</td>\n",
       "      <td>5</td>\n",
       "      <td>WOODROW</td>\n",
       "      <td>35 INDOOR PUBLIC AND CULTURAL FACILITIES</td>\n",
       "      <td>4</td>\n",
       "      <td>7105</td>\n",
       "      <td>679</td>\n",
       "      <td></td>\n",
       "      <td>P9</td>\n",
       "      <td>155 CLAY PIT ROAD</td>\n",
       "      <td></td>\n",
       "      <td>10309</td>\n",
       "      <td>0</td>\n",
       "      <td>1</td>\n",
       "      <td>1</td>\n",
       "      <td>10796</td>\n",
       "      <td>2400</td>\n",
       "      <td>2006</td>\n",
       "      <td>4</td>\n",
       "      <td>P9</td>\n",
       "      <td>69300</td>\n",
       "      <td>2016-10-27 00:00:00</td>\n",
       "    </tr>\n",
       "  </tbody>\n",
       "</table>\n",
       "<p>84548 rows × 22 columns</p>\n",
       "</div>"
      ],
      "text/plain": [
       "       Unnamed: 0  BOROUGH   NEIGHBORHOOD  \\\n",
       "0               4        1  ALPHABET CITY   \n",
       "1               5        1  ALPHABET CITY   \n",
       "2               6        1  ALPHABET CITY   \n",
       "3               7        1  ALPHABET CITY   \n",
       "4               8        1  ALPHABET CITY   \n",
       "...           ...      ...            ...   \n",
       "84543        8409        5        WOODROW   \n",
       "84544        8410        5        WOODROW   \n",
       "84545        8411        5        WOODROW   \n",
       "84546        8412        5        WOODROW   \n",
       "84547        8413        5        WOODROW   \n",
       "\n",
       "                           BUILDING CLASS CATEGORY TAX CLASS AT PRESENT  \\\n",
       "0      07 RENTALS - WALKUP APARTMENTS                                2A   \n",
       "1      07 RENTALS - WALKUP APARTMENTS                                 2   \n",
       "2      07 RENTALS - WALKUP APARTMENTS                                 2   \n",
       "3      07 RENTALS - WALKUP APARTMENTS                                2B   \n",
       "4      07 RENTALS - WALKUP APARTMENTS                                2A   \n",
       "...                                            ...                  ...   \n",
       "84543  02 TWO FAMILY DWELLINGS                                        1   \n",
       "84544  02 TWO FAMILY DWELLINGS                                        1   \n",
       "84545  02 TWO FAMILY DWELLINGS                                        1   \n",
       "84546  22 STORE BUILDINGS                                             4   \n",
       "84547  35 INDOOR PUBLIC AND CULTURAL FACILITIES                       4   \n",
       "\n",
       "       BLOCK  LOT EASE-MENT BUILDING CLASS AT PRESENT                 ADDRESS  \\\n",
       "0        392    6                                  C2            153 AVENUE B   \n",
       "1        399   26                                  C7   234 EAST 4TH   STREET   \n",
       "2        399   39                                  C7   197 EAST 3RD   STREET   \n",
       "3        402   21                                  C4     154 EAST 7TH STREET   \n",
       "4        404   55                                  C2  301 EAST 10TH   STREET   \n",
       "...      ...  ...       ...                       ...                     ...   \n",
       "84543   7349   34                                  B9           37 QUAIL LANE   \n",
       "84544   7349   78                                  B9        32 PHEASANT LANE   \n",
       "84545   7351   60                                  B2        49 PITNEY AVENUE   \n",
       "84546   7100   28                                  K6   2730 ARTHUR KILL ROAD   \n",
       "84547   7105  679                                  P9       155 CLAY PIT ROAD   \n",
       "\n",
       "      APARTMENT NUMBER  ZIP CODE  RESIDENTIAL UNITS  COMMERCIAL UNITS  \\\n",
       "0                          10009                  5                 0   \n",
       "1                          10009                 28                 3   \n",
       "2                          10009                 16                 1   \n",
       "3                          10009                 10                 0   \n",
       "4                          10009                  6                 0   \n",
       "...                ...       ...                ...               ...   \n",
       "84543                      10309                  2                 0   \n",
       "84544                      10309                  2                 0   \n",
       "84545                      10309                  2                 0   \n",
       "84546                      10309                  0                 7   \n",
       "84547                      10309                  0                 1   \n",
       "\n",
       "       TOTAL UNITS LAND SQUARE FEET GROSS SQUARE FEET  YEAR BUILT  \\\n",
       "0                5             1633              6440        1900   \n",
       "1               31             4616             18690        1900   \n",
       "2               17             2212              7803        1900   \n",
       "3               10             2272              6794        1913   \n",
       "4                6             2369              4615        1900   \n",
       "...            ...              ...               ...         ...   \n",
       "84543            2             2400              2575        1998   \n",
       "84544            2             2498              2377        1998   \n",
       "84545            2             4000              1496        1925   \n",
       "84546            7           208033             64117        2001   \n",
       "84547            1            10796              2400        2006   \n",
       "\n",
       "       TAX CLASS AT TIME OF SALE BUILDING CLASS AT TIME OF SALE SALE PRICE  \\\n",
       "0                              2                             C2    6625000   \n",
       "1                              2                             C7        -     \n",
       "2                              2                             C7        -     \n",
       "3                              2                             C4    3936272   \n",
       "4                              2                             C2    8000000   \n",
       "...                          ...                            ...        ...   \n",
       "84543                          1                             B9     450000   \n",
       "84544                          1                             B9     550000   \n",
       "84545                          1                             B2     460000   \n",
       "84546                          4                             K6   11693337   \n",
       "84547                          4                             P9      69300   \n",
       "\n",
       "                 SALE DATE  \n",
       "0      2017-07-19 00:00:00  \n",
       "1      2016-12-14 00:00:00  \n",
       "2      2016-12-09 00:00:00  \n",
       "3      2016-09-23 00:00:00  \n",
       "4      2016-11-17 00:00:00  \n",
       "...                    ...  \n",
       "84543  2016-11-28 00:00:00  \n",
       "84544  2017-04-21 00:00:00  \n",
       "84545  2017-07-05 00:00:00  \n",
       "84546  2016-12-21 00:00:00  \n",
       "84547  2016-10-27 00:00:00  \n",
       "\n",
       "[84548 rows x 22 columns]"
      ]
     },
     "execution_count": 2,
     "metadata": {},
     "output_type": "execute_result"
    }
   ],
   "source": [
    "nyc = pd.read_csv('dataset/nyc-rolling-sales.csv')\n",
    "nyc"
   ]
  },
  {
   "cell_type": "code",
   "execution_count": 3,
   "id": "4d8afe85",
   "metadata": {},
   "outputs": [
    {
     "data": {
      "text/html": [
       "<div>\n",
       "<style scoped>\n",
       "    .dataframe tbody tr th:only-of-type {\n",
       "        vertical-align: middle;\n",
       "    }\n",
       "\n",
       "    .dataframe tbody tr th {\n",
       "        vertical-align: top;\n",
       "    }\n",
       "\n",
       "    .dataframe thead th {\n",
       "        text-align: right;\n",
       "    }\n",
       "</style>\n",
       "<table border=\"1\" class=\"dataframe\">\n",
       "  <thead>\n",
       "    <tr style=\"text-align: right;\">\n",
       "      <th></th>\n",
       "      <th>Unnamed: 0</th>\n",
       "      <th>BOROUGH</th>\n",
       "      <th>NEIGHBORHOOD</th>\n",
       "      <th>BUILDING CLASS CATEGORY</th>\n",
       "      <th>TAX CLASS AT PRESENT</th>\n",
       "      <th>BLOCK</th>\n",
       "      <th>LOT</th>\n",
       "      <th>EASE-MENT</th>\n",
       "      <th>BUILDING CLASS AT PRESENT</th>\n",
       "      <th>ADDRESS</th>\n",
       "      <th>APARTMENT NUMBER</th>\n",
       "      <th>ZIP CODE</th>\n",
       "      <th>RESIDENTIAL UNITS</th>\n",
       "      <th>COMMERCIAL UNITS</th>\n",
       "      <th>TOTAL UNITS</th>\n",
       "      <th>LAND SQUARE FEET</th>\n",
       "      <th>GROSS SQUARE FEET</th>\n",
       "      <th>YEAR BUILT</th>\n",
       "      <th>TAX CLASS AT TIME OF SALE</th>\n",
       "      <th>BUILDING CLASS AT TIME OF SALE</th>\n",
       "      <th>SALE PRICE</th>\n",
       "      <th>SALE DATE</th>\n",
       "    </tr>\n",
       "  </thead>\n",
       "  <tbody>\n",
       "    <tr>\n",
       "      <th>0</th>\n",
       "      <td>4</td>\n",
       "      <td>1</td>\n",
       "      <td>ALPHABET CITY</td>\n",
       "      <td>07 RENTALS - WALKUP APARTMENTS</td>\n",
       "      <td>2A</td>\n",
       "      <td>392</td>\n",
       "      <td>6</td>\n",
       "      <td></td>\n",
       "      <td>C2</td>\n",
       "      <td>153 AVENUE B</td>\n",
       "      <td></td>\n",
       "      <td>10009</td>\n",
       "      <td>5</td>\n",
       "      <td>0</td>\n",
       "      <td>5</td>\n",
       "      <td>1633</td>\n",
       "      <td>6440</td>\n",
       "      <td>1900</td>\n",
       "      <td>2</td>\n",
       "      <td>C2</td>\n",
       "      <td>6625000</td>\n",
       "      <td>2017-07-19 00:00:00</td>\n",
       "    </tr>\n",
       "    <tr>\n",
       "      <th>1</th>\n",
       "      <td>5</td>\n",
       "      <td>1</td>\n",
       "      <td>ALPHABET CITY</td>\n",
       "      <td>07 RENTALS - WALKUP APARTMENTS</td>\n",
       "      <td>2</td>\n",
       "      <td>399</td>\n",
       "      <td>26</td>\n",
       "      <td></td>\n",
       "      <td>C7</td>\n",
       "      <td>234 EAST 4TH   STREET</td>\n",
       "      <td></td>\n",
       "      <td>10009</td>\n",
       "      <td>28</td>\n",
       "      <td>3</td>\n",
       "      <td>31</td>\n",
       "      <td>4616</td>\n",
       "      <td>18690</td>\n",
       "      <td>1900</td>\n",
       "      <td>2</td>\n",
       "      <td>C7</td>\n",
       "      <td>-</td>\n",
       "      <td>2016-12-14 00:00:00</td>\n",
       "    </tr>\n",
       "    <tr>\n",
       "      <th>2</th>\n",
       "      <td>6</td>\n",
       "      <td>1</td>\n",
       "      <td>ALPHABET CITY</td>\n",
       "      <td>07 RENTALS - WALKUP APARTMENTS</td>\n",
       "      <td>2</td>\n",
       "      <td>399</td>\n",
       "      <td>39</td>\n",
       "      <td></td>\n",
       "      <td>C7</td>\n",
       "      <td>197 EAST 3RD   STREET</td>\n",
       "      <td></td>\n",
       "      <td>10009</td>\n",
       "      <td>16</td>\n",
       "      <td>1</td>\n",
       "      <td>17</td>\n",
       "      <td>2212</td>\n",
       "      <td>7803</td>\n",
       "      <td>1900</td>\n",
       "      <td>2</td>\n",
       "      <td>C7</td>\n",
       "      <td>-</td>\n",
       "      <td>2016-12-09 00:00:00</td>\n",
       "    </tr>\n",
       "    <tr>\n",
       "      <th>3</th>\n",
       "      <td>7</td>\n",
       "      <td>1</td>\n",
       "      <td>ALPHABET CITY</td>\n",
       "      <td>07 RENTALS - WALKUP APARTMENTS</td>\n",
       "      <td>2B</td>\n",
       "      <td>402</td>\n",
       "      <td>21</td>\n",
       "      <td></td>\n",
       "      <td>C4</td>\n",
       "      <td>154 EAST 7TH STREET</td>\n",
       "      <td></td>\n",
       "      <td>10009</td>\n",
       "      <td>10</td>\n",
       "      <td>0</td>\n",
       "      <td>10</td>\n",
       "      <td>2272</td>\n",
       "      <td>6794</td>\n",
       "      <td>1913</td>\n",
       "      <td>2</td>\n",
       "      <td>C4</td>\n",
       "      <td>3936272</td>\n",
       "      <td>2016-09-23 00:00:00</td>\n",
       "    </tr>\n",
       "    <tr>\n",
       "      <th>4</th>\n",
       "      <td>8</td>\n",
       "      <td>1</td>\n",
       "      <td>ALPHABET CITY</td>\n",
       "      <td>07 RENTALS - WALKUP APARTMENTS</td>\n",
       "      <td>2A</td>\n",
       "      <td>404</td>\n",
       "      <td>55</td>\n",
       "      <td></td>\n",
       "      <td>C2</td>\n",
       "      <td>301 EAST 10TH   STREET</td>\n",
       "      <td></td>\n",
       "      <td>10009</td>\n",
       "      <td>6</td>\n",
       "      <td>0</td>\n",
       "      <td>6</td>\n",
       "      <td>2369</td>\n",
       "      <td>4615</td>\n",
       "      <td>1900</td>\n",
       "      <td>2</td>\n",
       "      <td>C2</td>\n",
       "      <td>8000000</td>\n",
       "      <td>2016-11-17 00:00:00</td>\n",
       "    </tr>\n",
       "  </tbody>\n",
       "</table>\n",
       "</div>"
      ],
      "text/plain": [
       "   Unnamed: 0  BOROUGH   NEIGHBORHOOD  \\\n",
       "0           4        1  ALPHABET CITY   \n",
       "1           5        1  ALPHABET CITY   \n",
       "2           6        1  ALPHABET CITY   \n",
       "3           7        1  ALPHABET CITY   \n",
       "4           8        1  ALPHABET CITY   \n",
       "\n",
       "                       BUILDING CLASS CATEGORY TAX CLASS AT PRESENT  BLOCK  \\\n",
       "0  07 RENTALS - WALKUP APARTMENTS                                2A    392   \n",
       "1  07 RENTALS - WALKUP APARTMENTS                                 2    399   \n",
       "2  07 RENTALS - WALKUP APARTMENTS                                 2    399   \n",
       "3  07 RENTALS - WALKUP APARTMENTS                                2B    402   \n",
       "4  07 RENTALS - WALKUP APARTMENTS                                2A    404   \n",
       "\n",
       "   LOT EASE-MENT BUILDING CLASS AT PRESENT                 ADDRESS  \\\n",
       "0    6                                  C2            153 AVENUE B   \n",
       "1   26                                  C7   234 EAST 4TH   STREET   \n",
       "2   39                                  C7   197 EAST 3RD   STREET   \n",
       "3   21                                  C4     154 EAST 7TH STREET   \n",
       "4   55                                  C2  301 EAST 10TH   STREET   \n",
       "\n",
       "  APARTMENT NUMBER  ZIP CODE  RESIDENTIAL UNITS  COMMERCIAL UNITS  \\\n",
       "0                      10009                  5                 0   \n",
       "1                      10009                 28                 3   \n",
       "2                      10009                 16                 1   \n",
       "3                      10009                 10                 0   \n",
       "4                      10009                  6                 0   \n",
       "\n",
       "   TOTAL UNITS LAND SQUARE FEET GROSS SQUARE FEET  YEAR BUILT  \\\n",
       "0            5             1633              6440        1900   \n",
       "1           31             4616             18690        1900   \n",
       "2           17             2212              7803        1900   \n",
       "3           10             2272              6794        1913   \n",
       "4            6             2369              4615        1900   \n",
       "\n",
       "   TAX CLASS AT TIME OF SALE BUILDING CLASS AT TIME OF SALE SALE PRICE  \\\n",
       "0                          2                             C2    6625000   \n",
       "1                          2                             C7        -     \n",
       "2                          2                             C7        -     \n",
       "3                          2                             C4    3936272   \n",
       "4                          2                             C2    8000000   \n",
       "\n",
       "             SALE DATE  \n",
       "0  2017-07-19 00:00:00  \n",
       "1  2016-12-14 00:00:00  \n",
       "2  2016-12-09 00:00:00  \n",
       "3  2016-09-23 00:00:00  \n",
       "4  2016-11-17 00:00:00  "
      ]
     },
     "execution_count": 3,
     "metadata": {},
     "output_type": "execute_result"
    }
   ],
   "source": [
    "nyc.head(5) #Untuk mengecek 5 data teratas"
   ]
  },
  {
   "cell_type": "code",
   "execution_count": 4,
   "id": "362f5b28",
   "metadata": {},
   "outputs": [
    {
     "data": {
      "text/plain": [
       "(84548, 22)"
      ]
     },
     "execution_count": 4,
     "metadata": {},
     "output_type": "execute_result"
    }
   ],
   "source": [
    "nyc.shape #Untuk mengecek ukuran data"
   ]
  },
  {
   "cell_type": "code",
   "execution_count": 5,
   "id": "7c55e0ae",
   "metadata": {},
   "outputs": [
    {
     "name": "stdout",
     "output_type": "stream",
     "text": [
      "<class 'pandas.core.frame.DataFrame'>\n",
      "RangeIndex: 84548 entries, 0 to 84547\n",
      "Data columns (total 22 columns):\n",
      " #   Column                          Non-Null Count  Dtype \n",
      "---  ------                          --------------  ----- \n",
      " 0   Unnamed: 0                      84548 non-null  int64 \n",
      " 1   BOROUGH                         84548 non-null  int64 \n",
      " 2   NEIGHBORHOOD                    84548 non-null  object\n",
      " 3   BUILDING CLASS CATEGORY         84548 non-null  object\n",
      " 4   TAX CLASS AT PRESENT            84548 non-null  object\n",
      " 5   BLOCK                           84548 non-null  int64 \n",
      " 6   LOT                             84548 non-null  int64 \n",
      " 7   EASE-MENT                       84548 non-null  object\n",
      " 8   BUILDING CLASS AT PRESENT       84548 non-null  object\n",
      " 9   ADDRESS                         84548 non-null  object\n",
      " 10  APARTMENT NUMBER                84548 non-null  object\n",
      " 11  ZIP CODE                        84548 non-null  int64 \n",
      " 12  RESIDENTIAL UNITS               84548 non-null  int64 \n",
      " 13  COMMERCIAL UNITS                84548 non-null  int64 \n",
      " 14  TOTAL UNITS                     84548 non-null  int64 \n",
      " 15  LAND SQUARE FEET                84548 non-null  object\n",
      " 16  GROSS SQUARE FEET               84548 non-null  object\n",
      " 17  YEAR BUILT                      84548 non-null  int64 \n",
      " 18  TAX CLASS AT TIME OF SALE       84548 non-null  int64 \n",
      " 19  BUILDING CLASS AT TIME OF SALE  84548 non-null  object\n",
      " 20  SALE PRICE                      84548 non-null  object\n",
      " 21  SALE DATE                       84548 non-null  object\n",
      "dtypes: int64(10), object(12)\n",
      "memory usage: 14.2+ MB\n"
     ]
    }
   ],
   "source": [
    "nyc.info() #Untuk menampilkan informasi fitur"
   ]
  },
  {
   "cell_type": "code",
   "execution_count": 6,
   "id": "60a68e96",
   "metadata": {},
   "outputs": [
    {
     "data": {
      "text/plain": [
       "Unnamed: 0                        0\n",
       "BOROUGH                           0\n",
       "NEIGHBORHOOD                      0\n",
       "BUILDING CLASS CATEGORY           0\n",
       "TAX CLASS AT PRESENT              0\n",
       "BLOCK                             0\n",
       "LOT                               0\n",
       "EASE-MENT                         0\n",
       "BUILDING CLASS AT PRESENT         0\n",
       "ADDRESS                           0\n",
       "APARTMENT NUMBER                  0\n",
       "ZIP CODE                          0\n",
       "RESIDENTIAL UNITS                 0\n",
       "COMMERCIAL UNITS                  0\n",
       "TOTAL UNITS                       0\n",
       "LAND SQUARE FEET                  0\n",
       "GROSS SQUARE FEET                 0\n",
       "YEAR BUILT                        0\n",
       "TAX CLASS AT TIME OF SALE         0\n",
       "BUILDING CLASS AT TIME OF SALE    0\n",
       "SALE PRICE                        0\n",
       "SALE DATE                         0\n",
       "dtype: int64"
      ]
     },
     "execution_count": 6,
     "metadata": {},
     "output_type": "execute_result"
    }
   ],
   "source": [
    "nyc.isna().sum() #Untuk mengecek data yang hilang"
   ]
  },
  {
   "cell_type": "code",
   "execution_count": 7,
   "id": "d207ea48",
   "metadata": {},
   "outputs": [],
   "source": [
    "nyc.drop(columns=['Unnamed: 0', 'EASE-MENT', 'APARTMENT NUMBER'], inplace=True) #Untuk menghapus kolom "
   ]
  },
  {
   "cell_type": "code",
   "execution_count": 8,
   "id": "13d0918a",
   "metadata": {},
   "outputs": [
    {
     "data": {
      "text/html": [
       "<div>\n",
       "<style scoped>\n",
       "    .dataframe tbody tr th:only-of-type {\n",
       "        vertical-align: middle;\n",
       "    }\n",
       "\n",
       "    .dataframe tbody tr th {\n",
       "        vertical-align: top;\n",
       "    }\n",
       "\n",
       "    .dataframe thead th {\n",
       "        text-align: right;\n",
       "    }\n",
       "</style>\n",
       "<table border=\"1\" class=\"dataframe\">\n",
       "  <thead>\n",
       "    <tr style=\"text-align: right;\">\n",
       "      <th></th>\n",
       "      <th>BOROUGH</th>\n",
       "      <th>NEIGHBORHOOD</th>\n",
       "      <th>BUILDING CLASS CATEGORY</th>\n",
       "      <th>TAX CLASS AT PRESENT</th>\n",
       "      <th>BLOCK</th>\n",
       "      <th>LOT</th>\n",
       "      <th>BUILDING CLASS AT PRESENT</th>\n",
       "      <th>ADDRESS</th>\n",
       "      <th>ZIP CODE</th>\n",
       "      <th>RESIDENTIAL UNITS</th>\n",
       "      <th>COMMERCIAL UNITS</th>\n",
       "      <th>TOTAL UNITS</th>\n",
       "      <th>LAND SQUARE FEET</th>\n",
       "      <th>GROSS SQUARE FEET</th>\n",
       "      <th>YEAR BUILT</th>\n",
       "      <th>TAX CLASS AT TIME OF SALE</th>\n",
       "      <th>BUILDING CLASS AT TIME OF SALE</th>\n",
       "      <th>SALE PRICE</th>\n",
       "      <th>SALE DATE</th>\n",
       "    </tr>\n",
       "  </thead>\n",
       "  <tbody>\n",
       "    <tr>\n",
       "      <th>0</th>\n",
       "      <td>1</td>\n",
       "      <td>ALPHABET CITY</td>\n",
       "      <td>07 RENTALS - WALKUP APARTMENTS</td>\n",
       "      <td>2A</td>\n",
       "      <td>392</td>\n",
       "      <td>6</td>\n",
       "      <td>C2</td>\n",
       "      <td>153 AVENUE B</td>\n",
       "      <td>10009</td>\n",
       "      <td>5</td>\n",
       "      <td>0</td>\n",
       "      <td>5</td>\n",
       "      <td>1633</td>\n",
       "      <td>6440</td>\n",
       "      <td>1900</td>\n",
       "      <td>2</td>\n",
       "      <td>C2</td>\n",
       "      <td>6625000</td>\n",
       "      <td>2017-07-19 00:00:00</td>\n",
       "    </tr>\n",
       "    <tr>\n",
       "      <th>1</th>\n",
       "      <td>1</td>\n",
       "      <td>ALPHABET CITY</td>\n",
       "      <td>07 RENTALS - WALKUP APARTMENTS</td>\n",
       "      <td>2</td>\n",
       "      <td>399</td>\n",
       "      <td>26</td>\n",
       "      <td>C7</td>\n",
       "      <td>234 EAST 4TH   STREET</td>\n",
       "      <td>10009</td>\n",
       "      <td>28</td>\n",
       "      <td>3</td>\n",
       "      <td>31</td>\n",
       "      <td>4616</td>\n",
       "      <td>18690</td>\n",
       "      <td>1900</td>\n",
       "      <td>2</td>\n",
       "      <td>C7</td>\n",
       "      <td>-</td>\n",
       "      <td>2016-12-14 00:00:00</td>\n",
       "    </tr>\n",
       "    <tr>\n",
       "      <th>2</th>\n",
       "      <td>1</td>\n",
       "      <td>ALPHABET CITY</td>\n",
       "      <td>07 RENTALS - WALKUP APARTMENTS</td>\n",
       "      <td>2</td>\n",
       "      <td>399</td>\n",
       "      <td>39</td>\n",
       "      <td>C7</td>\n",
       "      <td>197 EAST 3RD   STREET</td>\n",
       "      <td>10009</td>\n",
       "      <td>16</td>\n",
       "      <td>1</td>\n",
       "      <td>17</td>\n",
       "      <td>2212</td>\n",
       "      <td>7803</td>\n",
       "      <td>1900</td>\n",
       "      <td>2</td>\n",
       "      <td>C7</td>\n",
       "      <td>-</td>\n",
       "      <td>2016-12-09 00:00:00</td>\n",
       "    </tr>\n",
       "    <tr>\n",
       "      <th>3</th>\n",
       "      <td>1</td>\n",
       "      <td>ALPHABET CITY</td>\n",
       "      <td>07 RENTALS - WALKUP APARTMENTS</td>\n",
       "      <td>2B</td>\n",
       "      <td>402</td>\n",
       "      <td>21</td>\n",
       "      <td>C4</td>\n",
       "      <td>154 EAST 7TH STREET</td>\n",
       "      <td>10009</td>\n",
       "      <td>10</td>\n",
       "      <td>0</td>\n",
       "      <td>10</td>\n",
       "      <td>2272</td>\n",
       "      <td>6794</td>\n",
       "      <td>1913</td>\n",
       "      <td>2</td>\n",
       "      <td>C4</td>\n",
       "      <td>3936272</td>\n",
       "      <td>2016-09-23 00:00:00</td>\n",
       "    </tr>\n",
       "    <tr>\n",
       "      <th>4</th>\n",
       "      <td>1</td>\n",
       "      <td>ALPHABET CITY</td>\n",
       "      <td>07 RENTALS - WALKUP APARTMENTS</td>\n",
       "      <td>2A</td>\n",
       "      <td>404</td>\n",
       "      <td>55</td>\n",
       "      <td>C2</td>\n",
       "      <td>301 EAST 10TH   STREET</td>\n",
       "      <td>10009</td>\n",
       "      <td>6</td>\n",
       "      <td>0</td>\n",
       "      <td>6</td>\n",
       "      <td>2369</td>\n",
       "      <td>4615</td>\n",
       "      <td>1900</td>\n",
       "      <td>2</td>\n",
       "      <td>C2</td>\n",
       "      <td>8000000</td>\n",
       "      <td>2016-11-17 00:00:00</td>\n",
       "    </tr>\n",
       "    <tr>\n",
       "      <th>...</th>\n",
       "      <td>...</td>\n",
       "      <td>...</td>\n",
       "      <td>...</td>\n",
       "      <td>...</td>\n",
       "      <td>...</td>\n",
       "      <td>...</td>\n",
       "      <td>...</td>\n",
       "      <td>...</td>\n",
       "      <td>...</td>\n",
       "      <td>...</td>\n",
       "      <td>...</td>\n",
       "      <td>...</td>\n",
       "      <td>...</td>\n",
       "      <td>...</td>\n",
       "      <td>...</td>\n",
       "      <td>...</td>\n",
       "      <td>...</td>\n",
       "      <td>...</td>\n",
       "      <td>...</td>\n",
       "    </tr>\n",
       "    <tr>\n",
       "      <th>84543</th>\n",
       "      <td>5</td>\n",
       "      <td>WOODROW</td>\n",
       "      <td>02 TWO FAMILY DWELLINGS</td>\n",
       "      <td>1</td>\n",
       "      <td>7349</td>\n",
       "      <td>34</td>\n",
       "      <td>B9</td>\n",
       "      <td>37 QUAIL LANE</td>\n",
       "      <td>10309</td>\n",
       "      <td>2</td>\n",
       "      <td>0</td>\n",
       "      <td>2</td>\n",
       "      <td>2400</td>\n",
       "      <td>2575</td>\n",
       "      <td>1998</td>\n",
       "      <td>1</td>\n",
       "      <td>B9</td>\n",
       "      <td>450000</td>\n",
       "      <td>2016-11-28 00:00:00</td>\n",
       "    </tr>\n",
       "    <tr>\n",
       "      <th>84544</th>\n",
       "      <td>5</td>\n",
       "      <td>WOODROW</td>\n",
       "      <td>02 TWO FAMILY DWELLINGS</td>\n",
       "      <td>1</td>\n",
       "      <td>7349</td>\n",
       "      <td>78</td>\n",
       "      <td>B9</td>\n",
       "      <td>32 PHEASANT LANE</td>\n",
       "      <td>10309</td>\n",
       "      <td>2</td>\n",
       "      <td>0</td>\n",
       "      <td>2</td>\n",
       "      <td>2498</td>\n",
       "      <td>2377</td>\n",
       "      <td>1998</td>\n",
       "      <td>1</td>\n",
       "      <td>B9</td>\n",
       "      <td>550000</td>\n",
       "      <td>2017-04-21 00:00:00</td>\n",
       "    </tr>\n",
       "    <tr>\n",
       "      <th>84545</th>\n",
       "      <td>5</td>\n",
       "      <td>WOODROW</td>\n",
       "      <td>02 TWO FAMILY DWELLINGS</td>\n",
       "      <td>1</td>\n",
       "      <td>7351</td>\n",
       "      <td>60</td>\n",
       "      <td>B2</td>\n",
       "      <td>49 PITNEY AVENUE</td>\n",
       "      <td>10309</td>\n",
       "      <td>2</td>\n",
       "      <td>0</td>\n",
       "      <td>2</td>\n",
       "      <td>4000</td>\n",
       "      <td>1496</td>\n",
       "      <td>1925</td>\n",
       "      <td>1</td>\n",
       "      <td>B2</td>\n",
       "      <td>460000</td>\n",
       "      <td>2017-07-05 00:00:00</td>\n",
       "    </tr>\n",
       "    <tr>\n",
       "      <th>84546</th>\n",
       "      <td>5</td>\n",
       "      <td>WOODROW</td>\n",
       "      <td>22 STORE BUILDINGS</td>\n",
       "      <td>4</td>\n",
       "      <td>7100</td>\n",
       "      <td>28</td>\n",
       "      <td>K6</td>\n",
       "      <td>2730 ARTHUR KILL ROAD</td>\n",
       "      <td>10309</td>\n",
       "      <td>0</td>\n",
       "      <td>7</td>\n",
       "      <td>7</td>\n",
       "      <td>208033</td>\n",
       "      <td>64117</td>\n",
       "      <td>2001</td>\n",
       "      <td>4</td>\n",
       "      <td>K6</td>\n",
       "      <td>11693337</td>\n",
       "      <td>2016-12-21 00:00:00</td>\n",
       "    </tr>\n",
       "    <tr>\n",
       "      <th>84547</th>\n",
       "      <td>5</td>\n",
       "      <td>WOODROW</td>\n",
       "      <td>35 INDOOR PUBLIC AND CULTURAL FACILITIES</td>\n",
       "      <td>4</td>\n",
       "      <td>7105</td>\n",
       "      <td>679</td>\n",
       "      <td>P9</td>\n",
       "      <td>155 CLAY PIT ROAD</td>\n",
       "      <td>10309</td>\n",
       "      <td>0</td>\n",
       "      <td>1</td>\n",
       "      <td>1</td>\n",
       "      <td>10796</td>\n",
       "      <td>2400</td>\n",
       "      <td>2006</td>\n",
       "      <td>4</td>\n",
       "      <td>P9</td>\n",
       "      <td>69300</td>\n",
       "      <td>2016-10-27 00:00:00</td>\n",
       "    </tr>\n",
       "  </tbody>\n",
       "</table>\n",
       "<p>84548 rows × 19 columns</p>\n",
       "</div>"
      ],
      "text/plain": [
       "       BOROUGH   NEIGHBORHOOD                      BUILDING CLASS CATEGORY  \\\n",
       "0            1  ALPHABET CITY  07 RENTALS - WALKUP APARTMENTS                \n",
       "1            1  ALPHABET CITY  07 RENTALS - WALKUP APARTMENTS                \n",
       "2            1  ALPHABET CITY  07 RENTALS - WALKUP APARTMENTS                \n",
       "3            1  ALPHABET CITY  07 RENTALS - WALKUP APARTMENTS                \n",
       "4            1  ALPHABET CITY  07 RENTALS - WALKUP APARTMENTS                \n",
       "...        ...            ...                                          ...   \n",
       "84543        5        WOODROW  02 TWO FAMILY DWELLINGS                       \n",
       "84544        5        WOODROW  02 TWO FAMILY DWELLINGS                       \n",
       "84545        5        WOODROW  02 TWO FAMILY DWELLINGS                       \n",
       "84546        5        WOODROW  22 STORE BUILDINGS                            \n",
       "84547        5        WOODROW  35 INDOOR PUBLIC AND CULTURAL FACILITIES      \n",
       "\n",
       "      TAX CLASS AT PRESENT  BLOCK  LOT BUILDING CLASS AT PRESENT  \\\n",
       "0                       2A    392    6                        C2   \n",
       "1                        2    399   26                        C7   \n",
       "2                        2    399   39                        C7   \n",
       "3                       2B    402   21                        C4   \n",
       "4                       2A    404   55                        C2   \n",
       "...                    ...    ...  ...                       ...   \n",
       "84543                    1   7349   34                        B9   \n",
       "84544                    1   7349   78                        B9   \n",
       "84545                    1   7351   60                        B2   \n",
       "84546                    4   7100   28                        K6   \n",
       "84547                    4   7105  679                        P9   \n",
       "\n",
       "                      ADDRESS  ZIP CODE  RESIDENTIAL UNITS  COMMERCIAL UNITS  \\\n",
       "0                153 AVENUE B     10009                  5                 0   \n",
       "1       234 EAST 4TH   STREET     10009                 28                 3   \n",
       "2       197 EAST 3RD   STREET     10009                 16                 1   \n",
       "3         154 EAST 7TH STREET     10009                 10                 0   \n",
       "4      301 EAST 10TH   STREET     10009                  6                 0   \n",
       "...                       ...       ...                ...               ...   \n",
       "84543           37 QUAIL LANE     10309                  2                 0   \n",
       "84544        32 PHEASANT LANE     10309                  2                 0   \n",
       "84545        49 PITNEY AVENUE     10309                  2                 0   \n",
       "84546   2730 ARTHUR KILL ROAD     10309                  0                 7   \n",
       "84547       155 CLAY PIT ROAD     10309                  0                 1   \n",
       "\n",
       "       TOTAL UNITS LAND SQUARE FEET GROSS SQUARE FEET  YEAR BUILT  \\\n",
       "0                5             1633              6440        1900   \n",
       "1               31             4616             18690        1900   \n",
       "2               17             2212              7803        1900   \n",
       "3               10             2272              6794        1913   \n",
       "4                6             2369              4615        1900   \n",
       "...            ...              ...               ...         ...   \n",
       "84543            2             2400              2575        1998   \n",
       "84544            2             2498              2377        1998   \n",
       "84545            2             4000              1496        1925   \n",
       "84546            7           208033             64117        2001   \n",
       "84547            1            10796              2400        2006   \n",
       "\n",
       "       TAX CLASS AT TIME OF SALE BUILDING CLASS AT TIME OF SALE SALE PRICE  \\\n",
       "0                              2                             C2    6625000   \n",
       "1                              2                             C7        -     \n",
       "2                              2                             C7        -     \n",
       "3                              2                             C4    3936272   \n",
       "4                              2                             C2    8000000   \n",
       "...                          ...                            ...        ...   \n",
       "84543                          1                             B9     450000   \n",
       "84544                          1                             B9     550000   \n",
       "84545                          1                             B2     460000   \n",
       "84546                          4                             K6   11693337   \n",
       "84547                          4                             P9      69300   \n",
       "\n",
       "                 SALE DATE  \n",
       "0      2017-07-19 00:00:00  \n",
       "1      2016-12-14 00:00:00  \n",
       "2      2016-12-09 00:00:00  \n",
       "3      2016-09-23 00:00:00  \n",
       "4      2016-11-17 00:00:00  \n",
       "...                    ...  \n",
       "84543  2016-11-28 00:00:00  \n",
       "84544  2017-04-21 00:00:00  \n",
       "84545  2017-07-05 00:00:00  \n",
       "84546  2016-12-21 00:00:00  \n",
       "84547  2016-10-27 00:00:00  \n",
       "\n",
       "[84548 rows x 19 columns]"
      ]
     },
     "execution_count": 8,
     "metadata": {},
     "output_type": "execute_result"
    }
   ],
   "source": [
    "nyc"
   ]
  },
  {
   "cell_type": "markdown",
   "id": "0ca294a3",
   "metadata": {},
   "source": [
    "Fitur BOROUGH merepesentasikan kode digit untuk wilayah tempat properti berada; dalam urutan ini adalah Manhattan (1), Bronx (2), Brooklyn (3), Queens (4), dan Staten Island (5). Untuk itu kita dapat mengubah numerik menjadi object string. Kemudian terdapat dua fitur yang merepresentasikan TAX CLASS (PRESENT dan TIME OF SALE). Tetapi kedua fitur tersebut memiliki tipe data yang berbeda. Maka dari itu kita perlu menyamakan tipe data kedua fitur tersebut. "
   ]
  },
  {
   "cell_type": "code",
   "execution_count": 9,
   "id": "125a98b2",
   "metadata": {},
   "outputs": [],
   "source": [
    "def change_borough(borough):\n",
    "    \"\"\"\n",
    "        Function for changing borough code into string of the borough\n",
    "        \n",
    "        parameter\n",
    "        ---------\n",
    "            borough : the borough code\n",
    "            \n",
    "        return\n",
    "        ---------\n",
    "            string of the borough or NaN\n",
    "    \"\"\"\n",
    "    if borough == '1':\n",
    "        return 'Manhattan'\n",
    "    elif borough == '2':\n",
    "        return 'Bronx'\n",
    "    elif borough == '3':\n",
    "        return 'Brooklyn'\n",
    "    elif borough == '4':\n",
    "        return 'Queens'\n",
    "    elif borough == '5':\n",
    "        return 'Staten Island'\n",
    "    else:\n",
    "        return np.nan"
   ]
  },
  {
   "cell_type": "code",
   "execution_count": 10,
   "id": "9b49dafb",
   "metadata": {},
   "outputs": [],
   "source": [
    "# Ubah tipe data nyc['BOROUGH'] dan nyc['TAX CLASS AT TIME OF SALE'] menjadi string \n",
    "nyc[['BOROUGH','TAX CLASS AT TIME OF SALE']] = nyc[['BOROUGH','TAX CLASS AT TIME OF SALE']].astype('str')\n",
    "\n",
    "# Ubah borough code menjadi string nama boroughnya\n",
    "nyc['BOROUGH'] =  nyc['BOROUGH'].apply(change_borough)"
   ]
  },
  {
   "cell_type": "code",
   "execution_count": 11,
   "id": "d2e674ba",
   "metadata": {},
   "outputs": [],
   "source": [
    "# Mengelompokkan 1A, 1B, ... menjadi class 1; 2A, 2B, ... menjadi class 2, dst\n",
    "for idx, value in nyc['TAX CLASS AT PRESENT'].items():\n",
    "    if '1' in str(value):\n",
    "        nyc.loc[idx, 'TAX CLASS AT PRESENT'] = '1'\n",
    "    elif '2' in str(value):\n",
    "        nyc.loc[idx, 'TAX CLASS AT PRESENT'] = '2'\n",
    "    elif '3' in str(value):\n",
    "        nyc.loc[idx, 'TAX CLASS AT PRESENT'] = '3'\n",
    "    elif '4' in str(value):\n",
    "        nyc.loc[idx, 'TAX CLASS AT PRESENT'] = '4'"
   ]
  },
  {
   "cell_type": "markdown",
   "id": "6e7f30f1",
   "metadata": {},
   "source": [
    "Fitur LAND SQUARE FEET, GROSS SQUARE FEET, dan SALE PRICE seharusnya bertipe data numerik sehingga perlu diubah menjadi numerik (jika ada baris yang tidak dapat diubah menjadi numerik maka akan menjadi nan)"
   ]
  },
  {
   "cell_type": "code",
   "execution_count": 12,
   "id": "dee4868b",
   "metadata": {},
   "outputs": [],
   "source": [
    "to_numeric = ['LAND SQUARE FEET', 'GROSS SQUARE FEET', 'SALE PRICE']\n",
    "for col in to_numeric:\n",
    "    nyc[col] = pd.to_numeric(nyc[col], errors='coerce', downcast='signed')"
   ]
  },
  {
   "cell_type": "markdown",
   "id": "353ea757",
   "metadata": {},
   "source": [
    "Fitur SALE DATE seharusnya bertipe data datetime sehingga perlu diubah tipe datanya"
   ]
  },
  {
   "cell_type": "code",
   "execution_count": 13,
   "id": "9934546e",
   "metadata": {},
   "outputs": [],
   "source": [
    "nyc['SALE DATE'] = pd.to_datetime(nyc['SALE DATE'])\n",
    "nyc['SALE YEAR'] = nyc['SALE DATE'].dt.year\n",
    "nyc['SALE MONTH'] = nyc['SALE DATE'].dt.month"
   ]
  },
  {
   "cell_type": "code",
   "execution_count": 14,
   "id": "36204371",
   "metadata": {},
   "outputs": [
    {
     "data": {
      "text/plain": [
       "765"
      ]
     },
     "execution_count": 14,
     "metadata": {},
     "output_type": "execute_result"
    }
   ],
   "source": [
    "nyc.duplicated().sum()"
   ]
  },
  {
   "cell_type": "code",
   "execution_count": 15,
   "id": "13750ba9",
   "metadata": {},
   "outputs": [],
   "source": [
    "nyc.drop_duplicates(inplace=True) #Untuk menghapus data duplikat"
   ]
  },
  {
   "cell_type": "code",
   "execution_count": 16,
   "id": "15e4795b",
   "metadata": {},
   "outputs": [
    {
     "data": {
      "text/plain": [
       "0"
      ]
     },
     "execution_count": 16,
     "metadata": {},
     "output_type": "execute_result"
    }
   ],
   "source": [
    "nyc.duplicated().sum()"
   ]
  },
  {
   "cell_type": "code",
   "execution_count": 17,
   "id": "babfaa78",
   "metadata": {},
   "outputs": [
    {
     "data": {
      "text/plain": [
       "(83783, 21)"
      ]
     },
     "execution_count": 17,
     "metadata": {},
     "output_type": "execute_result"
    }
   ],
   "source": [
    "nyc.shape"
   ]
  },
  {
   "cell_type": "code",
   "execution_count": 18,
   "id": "b065b3f8",
   "metadata": {},
   "outputs": [
    {
     "name": "stdout",
     "output_type": "stream",
     "text": [
      "<class 'pandas.core.frame.DataFrame'>\n",
      "Index: 83783 entries, 0 to 84547\n",
      "Data columns (total 21 columns):\n",
      " #   Column                          Non-Null Count  Dtype         \n",
      "---  ------                          --------------  -----         \n",
      " 0   BOROUGH                         83783 non-null  object        \n",
      " 1   NEIGHBORHOOD                    83783 non-null  object        \n",
      " 2   BUILDING CLASS CATEGORY         83783 non-null  object        \n",
      " 3   TAX CLASS AT PRESENT            83783 non-null  object        \n",
      " 4   BLOCK                           83783 non-null  int64         \n",
      " 5   LOT                             83783 non-null  int64         \n",
      " 6   BUILDING CLASS AT PRESENT       83783 non-null  object        \n",
      " 7   ADDRESS                         83783 non-null  object        \n",
      " 8   ZIP CODE                        83783 non-null  int64         \n",
      " 9   RESIDENTIAL UNITS               83783 non-null  int64         \n",
      " 10  COMMERCIAL UNITS                83783 non-null  int64         \n",
      " 11  TOTAL UNITS                     83783 non-null  int64         \n",
      " 12  LAND SQUARE FEET                57729 non-null  float64       \n",
      " 13  GROSS SQUARE FEET               56398 non-null  float64       \n",
      " 14  YEAR BUILT                      83783 non-null  int64         \n",
      " 15  TAX CLASS AT TIME OF SALE       83783 non-null  object        \n",
      " 16  BUILDING CLASS AT TIME OF SALE  83783 non-null  object        \n",
      " 17  SALE PRICE                      69607 non-null  float64       \n",
      " 18  SALE DATE                       83783 non-null  datetime64[ns]\n",
      " 19  SALE YEAR                       83783 non-null  int32         \n",
      " 20  SALE MONTH                      83783 non-null  int32         \n",
      "dtypes: datetime64[ns](1), float64(3), int32(2), int64(7), object(8)\n",
      "memory usage: 13.4+ MB\n"
     ]
    }
   ],
   "source": [
    "nyc.info()"
   ]
  },
  {
   "cell_type": "markdown",
   "id": "4b21bb33",
   "metadata": {},
   "source": [
    "Drop Zip code = 0 "
   ]
  },
  {
   "cell_type": "code",
   "execution_count": 19,
   "id": "5289e6b0",
   "metadata": {},
   "outputs": [],
   "source": [
    "nyc = nyc[nyc['ZIP CODE'] != 0]"
   ]
  },
  {
   "cell_type": "markdown",
   "id": "9dd55e54",
   "metadata": {},
   "source": [
    "Sale price bernilai minimal $ 0 (Valid), tapi sale price bernilai kurang dari 10 akan didrop karena tidak masuk akal"
   ]
  },
  {
   "cell_type": "code",
   "execution_count": 20,
   "id": "16b9c905",
   "metadata": {},
   "outputs": [],
   "source": [
    "nyc = nyc[(nyc['SALE PRICE'] == 0) | (nyc['SALE PRICE'] > 10)]"
   ]
  },
  {
   "cell_type": "code",
   "execution_count": 21,
   "id": "bc119205",
   "metadata": {},
   "outputs": [
    {
     "data": {
      "text/plain": [
       "BOROUGH                               0\n",
       "NEIGHBORHOOD                          0\n",
       "BUILDING CLASS CATEGORY               0\n",
       "TAX CLASS AT PRESENT                  0\n",
       "BLOCK                                 0\n",
       "LOT                                   0\n",
       "BUILDING CLASS AT PRESENT             0\n",
       "ADDRESS                               0\n",
       "ZIP CODE                              0\n",
       "RESIDENTIAL UNITS                     0\n",
       "COMMERCIAL UNITS                      0\n",
       "TOTAL UNITS                           0\n",
       "LAND SQUARE FEET                  20831\n",
       "GROSS SQUARE FEET                 21181\n",
       "YEAR BUILT                            0\n",
       "TAX CLASS AT TIME OF SALE             0\n",
       "BUILDING CLASS AT TIME OF SALE        0\n",
       "SALE PRICE                            0\n",
       "SALE DATE                             0\n",
       "SALE YEAR                             0\n",
       "SALE MONTH                            0\n",
       "dtype: int64"
      ]
     },
     "execution_count": 21,
     "metadata": {},
     "output_type": "execute_result"
    }
   ],
   "source": [
    "nyc.isnull().sum() #Cek missing value"
   ]
  },
  {
   "cell_type": "code",
   "execution_count": 22,
   "id": "4ba7ac11",
   "metadata": {},
   "outputs": [],
   "source": [
    "# isi missing value di Land Sq. Ft dengan Gross Sq. Ft jika Gross tidak null, dan sebaliknya\n",
    "\n",
    "nyc['LAND SQUARE FEET'].fillna(nyc['GROSS SQUARE FEET'], inplace=True)\n",
    "nyc['GROSS SQUARE FEET'].fillna(nyc['LAND SQUARE FEET'], inplace=True)"
   ]
  },
  {
   "cell_type": "code",
   "execution_count": 23,
   "id": "a5249d4c",
   "metadata": {},
   "outputs": [
    {
     "data": {
      "text/plain": [
       "BOROUGH                               0\n",
       "NEIGHBORHOOD                          0\n",
       "BUILDING CLASS CATEGORY               0\n",
       "TAX CLASS AT PRESENT                  0\n",
       "BLOCK                                 0\n",
       "LOT                                   0\n",
       "BUILDING CLASS AT PRESENT             0\n",
       "ADDRESS                               0\n",
       "ZIP CODE                              0\n",
       "RESIDENTIAL UNITS                     0\n",
       "COMMERCIAL UNITS                      0\n",
       "TOTAL UNITS                           0\n",
       "LAND SQUARE FEET                  20827\n",
       "GROSS SQUARE FEET                 20827\n",
       "YEAR BUILT                            0\n",
       "TAX CLASS AT TIME OF SALE             0\n",
       "BUILDING CLASS AT TIME OF SALE        0\n",
       "SALE PRICE                            0\n",
       "SALE DATE                             0\n",
       "SALE YEAR                             0\n",
       "SALE MONTH                            0\n",
       "dtype: int64"
      ]
     },
     "execution_count": 23,
     "metadata": {},
     "output_type": "execute_result"
    }
   ],
   "source": [
    "nyc.isnull().sum() #Cek missing value"
   ]
  },
  {
   "cell_type": "code",
   "execution_count": 24,
   "id": "1c5aae5e",
   "metadata": {},
   "outputs": [],
   "source": [
    "# filter data dimana Land Sq. Ft. dan Gross Sq. Ft. tidak null\n",
    "\n",
    "nyc_new = nyc[(nyc['LAND SQUARE FEET'].notnull()) & (nyc['GROSS SQUARE FEET'].notnull())]"
   ]
  },
  {
   "cell_type": "code",
   "execution_count": 25,
   "id": "e989f686",
   "metadata": {},
   "outputs": [
    {
     "data": {
      "text/plain": [
       "BOROUGH                           0\n",
       "NEIGHBORHOOD                      0\n",
       "BUILDING CLASS CATEGORY           0\n",
       "TAX CLASS AT PRESENT              0\n",
       "BLOCK                             0\n",
       "LOT                               0\n",
       "BUILDING CLASS AT PRESENT         0\n",
       "ADDRESS                           0\n",
       "ZIP CODE                          0\n",
       "RESIDENTIAL UNITS                 0\n",
       "COMMERCIAL UNITS                  0\n",
       "TOTAL UNITS                       0\n",
       "LAND SQUARE FEET                  0\n",
       "GROSS SQUARE FEET                 0\n",
       "YEAR BUILT                        0\n",
       "TAX CLASS AT TIME OF SALE         0\n",
       "BUILDING CLASS AT TIME OF SALE    0\n",
       "SALE PRICE                        0\n",
       "SALE DATE                         0\n",
       "SALE YEAR                         0\n",
       "SALE MONTH                        0\n",
       "dtype: int64"
      ]
     },
     "execution_count": 25,
     "metadata": {},
     "output_type": "execute_result"
    }
   ],
   "source": [
    "nyc_new.isnull().sum() #Cek missing value"
   ]
  },
  {
   "cell_type": "code",
   "execution_count": 26,
   "id": "c5aba1ff",
   "metadata": {},
   "outputs": [
    {
     "data": {
      "text/html": [
       "<div>\n",
       "<style scoped>\n",
       "    .dataframe tbody tr th:only-of-type {\n",
       "        vertical-align: middle;\n",
       "    }\n",
       "\n",
       "    .dataframe tbody tr th {\n",
       "        vertical-align: top;\n",
       "    }\n",
       "\n",
       "    .dataframe thead th {\n",
       "        text-align: right;\n",
       "    }\n",
       "</style>\n",
       "<table border=\"1\" class=\"dataframe\">\n",
       "  <thead>\n",
       "    <tr style=\"text-align: right;\">\n",
       "      <th></th>\n",
       "      <th>BOROUGH</th>\n",
       "      <th>NEIGHBORHOOD</th>\n",
       "      <th>BUILDING CLASS CATEGORY</th>\n",
       "      <th>TAX CLASS AT PRESENT</th>\n",
       "      <th>BLOCK</th>\n",
       "      <th>LOT</th>\n",
       "      <th>BUILDING CLASS AT PRESENT</th>\n",
       "      <th>ADDRESS</th>\n",
       "      <th>ZIP CODE</th>\n",
       "      <th>RESIDENTIAL UNITS</th>\n",
       "      <th>COMMERCIAL UNITS</th>\n",
       "      <th>TOTAL UNITS</th>\n",
       "      <th>LAND SQUARE FEET</th>\n",
       "      <th>GROSS SQUARE FEET</th>\n",
       "      <th>YEAR BUILT</th>\n",
       "      <th>TAX CLASS AT TIME OF SALE</th>\n",
       "      <th>BUILDING CLASS AT TIME OF SALE</th>\n",
       "      <th>SALE PRICE</th>\n",
       "      <th>SALE DATE</th>\n",
       "      <th>SALE YEAR</th>\n",
       "      <th>SALE MONTH</th>\n",
       "    </tr>\n",
       "  </thead>\n",
       "  <tbody>\n",
       "    <tr>\n",
       "      <th>0</th>\n",
       "      <td>Manhattan</td>\n",
       "      <td>ALPHABET CITY</td>\n",
       "      <td>07 RENTALS - WALKUP APARTMENTS</td>\n",
       "      <td>2</td>\n",
       "      <td>392</td>\n",
       "      <td>6</td>\n",
       "      <td>C2</td>\n",
       "      <td>153 AVENUE B</td>\n",
       "      <td>10009</td>\n",
       "      <td>5</td>\n",
       "      <td>0</td>\n",
       "      <td>5</td>\n",
       "      <td>1633.0</td>\n",
       "      <td>6440.0</td>\n",
       "      <td>1900</td>\n",
       "      <td>2</td>\n",
       "      <td>C2</td>\n",
       "      <td>6625000.0</td>\n",
       "      <td>2017-07-19</td>\n",
       "      <td>2017</td>\n",
       "      <td>7</td>\n",
       "    </tr>\n",
       "    <tr>\n",
       "      <th>3</th>\n",
       "      <td>Manhattan</td>\n",
       "      <td>ALPHABET CITY</td>\n",
       "      <td>07 RENTALS - WALKUP APARTMENTS</td>\n",
       "      <td>2</td>\n",
       "      <td>402</td>\n",
       "      <td>21</td>\n",
       "      <td>C4</td>\n",
       "      <td>154 EAST 7TH STREET</td>\n",
       "      <td>10009</td>\n",
       "      <td>10</td>\n",
       "      <td>0</td>\n",
       "      <td>10</td>\n",
       "      <td>2272.0</td>\n",
       "      <td>6794.0</td>\n",
       "      <td>1913</td>\n",
       "      <td>2</td>\n",
       "      <td>C4</td>\n",
       "      <td>3936272.0</td>\n",
       "      <td>2016-09-23</td>\n",
       "      <td>2016</td>\n",
       "      <td>9</td>\n",
       "    </tr>\n",
       "    <tr>\n",
       "      <th>4</th>\n",
       "      <td>Manhattan</td>\n",
       "      <td>ALPHABET CITY</td>\n",
       "      <td>07 RENTALS - WALKUP APARTMENTS</td>\n",
       "      <td>2</td>\n",
       "      <td>404</td>\n",
       "      <td>55</td>\n",
       "      <td>C2</td>\n",
       "      <td>301 EAST 10TH   STREET</td>\n",
       "      <td>10009</td>\n",
       "      <td>6</td>\n",
       "      <td>0</td>\n",
       "      <td>6</td>\n",
       "      <td>2369.0</td>\n",
       "      <td>4615.0</td>\n",
       "      <td>1900</td>\n",
       "      <td>2</td>\n",
       "      <td>C2</td>\n",
       "      <td>8000000.0</td>\n",
       "      <td>2016-11-17</td>\n",
       "      <td>2016</td>\n",
       "      <td>11</td>\n",
       "    </tr>\n",
       "    <tr>\n",
       "      <th>6</th>\n",
       "      <td>Manhattan</td>\n",
       "      <td>ALPHABET CITY</td>\n",
       "      <td>07 RENTALS - WALKUP APARTMENTS</td>\n",
       "      <td>2</td>\n",
       "      <td>406</td>\n",
       "      <td>32</td>\n",
       "      <td>C4</td>\n",
       "      <td>210 AVENUE B</td>\n",
       "      <td>10009</td>\n",
       "      <td>8</td>\n",
       "      <td>0</td>\n",
       "      <td>8</td>\n",
       "      <td>1750.0</td>\n",
       "      <td>4226.0</td>\n",
       "      <td>1920</td>\n",
       "      <td>2</td>\n",
       "      <td>C4</td>\n",
       "      <td>3192840.0</td>\n",
       "      <td>2016-09-23</td>\n",
       "      <td>2016</td>\n",
       "      <td>9</td>\n",
       "    </tr>\n",
       "    <tr>\n",
       "      <th>9</th>\n",
       "      <td>Manhattan</td>\n",
       "      <td>ALPHABET CITY</td>\n",
       "      <td>08 RENTALS - ELEVATOR APARTMENTS</td>\n",
       "      <td>2</td>\n",
       "      <td>387</td>\n",
       "      <td>153</td>\n",
       "      <td>D9</td>\n",
       "      <td>629 EAST 5TH STREET</td>\n",
       "      <td>10009</td>\n",
       "      <td>24</td>\n",
       "      <td>0</td>\n",
       "      <td>24</td>\n",
       "      <td>4489.0</td>\n",
       "      <td>18523.0</td>\n",
       "      <td>1920</td>\n",
       "      <td>2</td>\n",
       "      <td>D9</td>\n",
       "      <td>16232000.0</td>\n",
       "      <td>2016-11-07</td>\n",
       "      <td>2016</td>\n",
       "      <td>11</td>\n",
       "    </tr>\n",
       "  </tbody>\n",
       "</table>\n",
       "</div>"
      ],
      "text/plain": [
       "     BOROUGH   NEIGHBORHOOD                      BUILDING CLASS CATEGORY  \\\n",
       "0  Manhattan  ALPHABET CITY  07 RENTALS - WALKUP APARTMENTS                \n",
       "3  Manhattan  ALPHABET CITY  07 RENTALS - WALKUP APARTMENTS                \n",
       "4  Manhattan  ALPHABET CITY  07 RENTALS - WALKUP APARTMENTS                \n",
       "6  Manhattan  ALPHABET CITY  07 RENTALS - WALKUP APARTMENTS                \n",
       "9  Manhattan  ALPHABET CITY  08 RENTALS - ELEVATOR APARTMENTS              \n",
       "\n",
       "  TAX CLASS AT PRESENT  BLOCK  LOT BUILDING CLASS AT PRESENT  \\\n",
       "0                    2    392    6                        C2   \n",
       "3                    2    402   21                        C4   \n",
       "4                    2    404   55                        C2   \n",
       "6                    2    406   32                        C4   \n",
       "9                    2    387  153                        D9   \n",
       "\n",
       "                  ADDRESS  ZIP CODE  RESIDENTIAL UNITS  COMMERCIAL UNITS  \\\n",
       "0            153 AVENUE B     10009                  5                 0   \n",
       "3     154 EAST 7TH STREET     10009                 10                 0   \n",
       "4  301 EAST 10TH   STREET     10009                  6                 0   \n",
       "6            210 AVENUE B     10009                  8                 0   \n",
       "9     629 EAST 5TH STREET     10009                 24                 0   \n",
       "\n",
       "   TOTAL UNITS  LAND SQUARE FEET  GROSS SQUARE FEET  YEAR BUILT  \\\n",
       "0            5            1633.0             6440.0        1900   \n",
       "3           10            2272.0             6794.0        1913   \n",
       "4            6            2369.0             4615.0        1900   \n",
       "6            8            1750.0             4226.0        1920   \n",
       "9           24            4489.0            18523.0        1920   \n",
       "\n",
       "  TAX CLASS AT TIME OF SALE BUILDING CLASS AT TIME OF SALE  SALE PRICE  \\\n",
       "0                         2                             C2   6625000.0   \n",
       "3                         2                             C4   3936272.0   \n",
       "4                         2                             C2   8000000.0   \n",
       "6                         2                             C4   3192840.0   \n",
       "9                         2                             D9  16232000.0   \n",
       "\n",
       "   SALE DATE  SALE YEAR  SALE MONTH  \n",
       "0 2017-07-19       2017           7  \n",
       "3 2016-09-23       2016           9  \n",
       "4 2016-11-17       2016          11  \n",
       "6 2016-09-23       2016           9  \n",
       "9 2016-11-07       2016          11  "
      ]
     },
     "execution_count": 26,
     "metadata": {},
     "output_type": "execute_result"
    }
   ],
   "source": [
    "nyc_new.head(5)"
   ]
  },
  {
   "cell_type": "markdown",
   "id": "ec9740d3",
   "metadata": {},
   "source": [
    "# Mean"
   ]
  },
  {
   "cell_type": "markdown",
   "id": "1a2d1534",
   "metadata": {},
   "source": [
    "## Berapa rata - rata value untuk setiap kolom numerik ?"
   ]
  },
  {
   "cell_type": "code",
   "execution_count": 27,
   "id": "e8772bee",
   "metadata": {},
   "outputs": [
    {
     "name": "stdout",
     "output_type": "stream",
     "text": [
      "Mean of Residential Units: 2.53\n",
      "Mean of Commercial Units: 0.24\n",
      "Mean of Total Units: 2.79\n",
      "Mean of Land Square Feet: 3370.13\n",
      "Mean of Gross Square Feet: 3674.68\n",
      "Mean of Sale Price: 1201487.27\n"
     ]
    }
   ],
   "source": [
    "# rata2 fitur RESIDENTIAL UNITS\n",
    "mean_res_units = nyc_new['RESIDENTIAL UNITS'].mean()\n",
    "print('Mean of Residential Units:', round(mean_res_units,2))\n",
    "\n",
    "# rata2 fitur COMMERCIAL UNITS\n",
    "mean_com_units = nyc_new['COMMERCIAL UNITS'].mean()\n",
    "print('Mean of Commercial Units:', round(mean_com_units,2))\n",
    "\n",
    "# rata2 fitur TOTAL UNITS\n",
    "mean_total_units = nyc_new['TOTAL UNITS'].mean()\n",
    "print('Mean of Total Units:', round(mean_total_units,2))\n",
    "\n",
    "# rata2 fitur LAND SQUARE FEET\n",
    "mean_land = nyc_new['LAND SQUARE FEET'].mean()\n",
    "print('Mean of Land Square Feet:', round(mean_land,2))\n",
    "\n",
    "# rata2 fitur GROSS SQUARE FEET\n",
    "mean_gross = nyc_new['GROSS SQUARE FEET'].mean()\n",
    "print('Mean of Gross Square Feet:', round(mean_gross,2))\n",
    "\n",
    "# rata2 fitur SALE PRICE\n",
    "mean_price = nyc_new['SALE PRICE'].mean()\n",
    "print('Mean of Sale Price:', round(mean_price,2))"
   ]
  },
  {
   "cell_type": "markdown",
   "id": "439252b2",
   "metadata": {},
   "source": [
    "## Berapa rata - rata Sale Price di setiap Borought"
   ]
  },
  {
   "cell_type": "code",
   "execution_count": 28,
   "id": "ddcee935",
   "metadata": {},
   "outputs": [
    {
     "name": "stdout",
     "output_type": "stream",
     "text": [
      "Manhattan: 19960319.41\n",
      "Bronx: 606854.02\n",
      "Brooklyn: 850984.9\n",
      "Queens: 954869.93\n",
      "Staten Island: 562635.68\n"
     ]
    }
   ],
   "source": [
    "# Menghitung rata-rata SALE PRICE di Manhattan\n",
    "mean_manhattan = nyc_new[nyc_new['BOROUGH'] == 'Manhattan']['SALE PRICE'].mean()\n",
    "print('Manhattan:',round(mean_manhattan,2))\n",
    "\n",
    "# Menghitung rata-rata SALE PRICE di Bronx\n",
    "mean_bronx = nyc_new[nyc_new['BOROUGH'] == 'Bronx']['SALE PRICE'].mean()\n",
    "print('Bronx:',round(mean_bronx,2))\n",
    "\n",
    "# Menghitung rata-rata SALE PRICE di Brooklyn\n",
    "mean_brooklyn = nyc_new[nyc_new['BOROUGH'] == 'Brooklyn']['SALE PRICE'].mean()\n",
    "print('Brooklyn:',round(mean_brooklyn,2))\n",
    "\n",
    "# Menghitung rata-rata SALE PRICE di Queens\n",
    "mean_queens = nyc_new[nyc_new['BOROUGH'] == 'Queens']['SALE PRICE'].mean()\n",
    "print('Queens:',round(mean_queens,2))\n",
    "\n",
    "# Menghitung rata-rata SALE PRICE di Staten Island\n",
    "mean_staten_island = nyc_new[nyc_new['BOROUGH'] == 'Staten Island']['SALE PRICE'].mean()\n",
    "print('Staten Island:',round(mean_staten_island,2))"
   ]
  },
  {
   "cell_type": "markdown",
   "id": "c573bfeb",
   "metadata": {},
   "source": [
    "## Berapa rata-rata LAND SQUARE FEET pada daerah Manhattan dan Queens"
   ]
  },
  {
   "cell_type": "code",
   "execution_count": 29,
   "id": "e5261132",
   "metadata": {},
   "outputs": [
    {
     "name": "stdout",
     "output_type": "stream",
     "text": [
      "5852.561403508772\n",
      "3996.98298607952\n"
     ]
    }
   ],
   "source": [
    "# Menghitung rata-rata LAND SQUARE FEET (land area) Property di Bronx dan Brooklyn\n",
    "\n",
    "land_bronx = nyc_new[nyc_new['BOROUGH'] == 'Manhattan']['LAND SQUARE FEET'].mean()\n",
    "print(land_bronx)\n",
    "\n",
    "land_brooklyn = nyc_new[nyc_new['BOROUGH'] == 'Queens']['LAND SQUARE FEET'].mean()\n",
    "print(land_brooklyn)"
   ]
  },
  {
   "cell_type": "markdown",
   "id": "4b3aac97",
   "metadata": {},
   "source": [
    "# Median"
   ]
  },
  {
   "cell_type": "markdown",
   "id": "f892c0bf",
   "metadata": {},
   "source": [
    "## Berapa median untuk setiap kolom numerik ?"
   ]
  },
  {
   "cell_type": "code",
   "execution_count": 30,
   "id": "44b469c2",
   "metadata": {},
   "outputs": [
    {
     "name": "stdout",
     "output_type": "stream",
     "text": [
      "Median of Residential Units: 1.0\n",
      "Median of Commercial Units: 0.0\n",
      "Median of Total Units: 1.0\n",
      "Median of Land Square Feet: 2143.0\n",
      "Median of Gross Square Feet: 1632.0\n",
      "Median of Sale Price: 495000.0\n"
     ]
    }
   ],
   "source": [
    "# median fitur RESIDENTIAL UNITS\n",
    "median_res_units = nyc_new['RESIDENTIAL UNITS'].median()\n",
    "print('Median of Residential Units:', median_res_units)\n",
    "\n",
    "# median fitur COMMERCIAL UNITS\n",
    "median_com_units = nyc_new['COMMERCIAL UNITS'].median()\n",
    "print('Median of Commercial Units:', median_com_units)\n",
    "\n",
    "# median fitur TOTAL UNITS\n",
    "median_total_units = nyc_new['TOTAL UNITS'].median()\n",
    "print('Median of Total Units:', median_total_units)\n",
    "\n",
    "# median fitur LAND SQUARE FEET\n",
    "median_land = nyc_new['LAND SQUARE FEET'].median()\n",
    "print('Median of Land Square Feet:', median_land)\n",
    "\n",
    "# median fitur GROSS SQUARE FEET\n",
    "median_gross = nyc_new['GROSS SQUARE FEET'].median()\n",
    "print('Median of Gross Square Feet:', median_gross)\n",
    "\n",
    "# median fitur SALE PRICE\n",
    "median_price = nyc_new['SALE PRICE'].median()\n",
    "print('Median of Sale Price:', median_price)"
   ]
  },
  {
   "cell_type": "markdown",
   "id": "3a4eb4ae",
   "metadata": {},
   "source": [
    "## Berapa median Sale Price di setiap Borough ?"
   ]
  },
  {
   "cell_type": "code",
   "execution_count": 31,
   "id": "1628e150",
   "metadata": {},
   "outputs": [
    {
     "name": "stdout",
     "output_type": "stream",
     "text": [
      "Manhattan: 6800000.0\n",
      "Bronx: 285000.0\n",
      "Brooklyn: 440000.0\n",
      "Queens: 641000.0\n",
      "Staten Island: 490000.0\n"
     ]
    }
   ],
   "source": [
    "# Menghitung median SALE PRICE di daerah Manhattan\n",
    "median_manhattan = nyc_new[nyc_new['BOROUGH'] == 'Manhattan']['SALE PRICE'].median()\n",
    "print('Manhattan:',round(median_manhattan,2))\n",
    "\n",
    "# Menghitung median SALE PRICE di daerah Bronx\n",
    "median_bronx = nyc_new[nyc_new['BOROUGH'] == 'Bronx']['SALE PRICE'].median()\n",
    "print('Bronx:',round(median_bronx,2))\n",
    "\n",
    "# Menghitung median SALE PRICE di daerah Brooklyn\n",
    "median_brooklyn = nyc_new[nyc_new['BOROUGH'] == 'Brooklyn']['SALE PRICE'].median()\n",
    "print('Brooklyn:',round(median_brooklyn,2))\n",
    "\n",
    "# Menghitung median SALE PRICE di daerah Queens\n",
    "median_queens = nyc_new[nyc_new['BOROUGH'] == 'Queens']['SALE PRICE'].median()\n",
    "print('Queens:',round(median_queens,2))\n",
    "\n",
    "# Menghitung median SALE PRICE di daerah Staten Island\n",
    "median_staten_island = nyc_new[nyc_new['BOROUGH'] == 'Staten Island']['SALE PRICE'].median()\n",
    "print('Staten Island:',round(median_staten_island,2))"
   ]
  },
  {
   "cell_type": "markdown",
   "id": "45f592b5",
   "metadata": {},
   "source": [
    "# Modus"
   ]
  },
  {
   "cell_type": "markdown",
   "id": "0e606c14",
   "metadata": {},
   "source": [
    "## Modus pada setiap kategori data"
   ]
  },
  {
   "cell_type": "code",
   "execution_count": 32,
   "id": "736c1666",
   "metadata": {},
   "outputs": [
    {
     "name": "stdout",
     "output_type": "stream",
     "text": [
      "Mode of Borough: ['Brooklyn']\n",
      "Mode of Borough: ['Brooklyn']\n",
      "Mode of Neighborhood: ['BEDFORD STUYVESANT']\n",
      "Mode of Building Class Category: ['01 ONE FAMILY DWELLINGS                    ']\n",
      "Mode of Tax Class Present: ['1']\n",
      "Mode of Tax Class Time of Sale: ['1']\n",
      "Mode of Tax Class Time of Sale: ['1']\n"
     ]
    }
   ],
   "source": [
    "# modus fitur BOROUGH \n",
    "mode_borough = nyc_new['BOROUGH'].mode()\n",
    "print('Mode of Borough:', mode_borough.values)\n",
    "\n",
    "# modus fitur BOROUGH yang tidak termasuk transfer deeds\n",
    "borough_wo_trf = nyc_new[nyc_new['SALE PRICE'] != 0]['BOROUGH'].mode()\n",
    "print('Mode of Borough:', borough_wo_trf.values)\n",
    "\n",
    "# modus fitur NEIGHBORHOOD \n",
    "mode_neighborhood = nyc_new['NEIGHBORHOOD'].mode()\n",
    "print('Mode of Neighborhood:', mode_neighborhood.values)\n",
    "\n",
    "# modus fitur BUILDING CLASS CATEGORY \n",
    "mode_bcc = nyc_new['BUILDING CLASS CATEGORY'].mode()\n",
    "print('Mode of Building Class Category:', mode_bcc.values)\n",
    "\n",
    "# modus fitur TAX CLASS PRESENT \n",
    "mode_tax_present = nyc_new['TAX CLASS AT PRESENT'].mode()\n",
    "print('Mode of Tax Class Present:', mode_tax_present.values)\n",
    "\n",
    "# modus fitur TAX CLASS TIME OF SALE \n",
    "mode_tax_sale = nyc_new['TAX CLASS AT TIME OF SALE'].mode()\n",
    "print('Mode of Tax Class Time of Sale:', mode_tax_sale.values)\n",
    "\n",
    "# modus fitur TAX CLASS TIME OF SALE \n",
    "mode_tax_sale = nyc_new['TAX CLASS AT TIME OF SALE'].mode()\n",
    "print('Mode of Tax Class Time of Sale:', mode_tax_sale.values)"
   ]
  },
  {
   "cell_type": "markdown",
   "id": "491f20c9",
   "metadata": {},
   "source": [
    "# Range"
   ]
  },
  {
   "cell_type": "markdown",
   "id": "e5d860e7",
   "metadata": {},
   "source": [
    "Berapa range/jangkauan dari SALE PRICE, LAND sq. ft. ,GROSS sq. ft. ?"
   ]
  },
  {
   "cell_type": "code",
   "execution_count": 33,
   "id": "bb50bf27",
   "metadata": {},
   "outputs": [
    {
     "name": "stdout",
     "output_type": "stream",
     "text": [
      "0.0 2210000000.0 2210000000.0\n"
     ]
    }
   ],
   "source": [
    "# Menghitung jangkauan (nilai tertinggi - nilai terendah) SALE PRICE\n",
    "range_sale_price = np.ptp(nyc_new['SALE PRICE'])\n",
    "print(min(nyc_new['SALE PRICE']),max(nyc_new['SALE PRICE']),range_sale_price)"
   ]
  },
  {
   "cell_type": "code",
   "execution_count": 34,
   "id": "e6b05d52",
   "metadata": {},
   "outputs": [
    {
     "name": "stdout",
     "output_type": "stream",
     "text": [
      "0.0 4228300.0 4228300.0\n"
     ]
    }
   ],
   "source": [
    "# Menghitung jangkauan (nilai tertinggi - nilai terendah) LAND SQUARE FEET (Land Area)\n",
    "range_land = np.ptp(nyc_new['LAND SQUARE FEET'])\n",
    "print(min(nyc_new['LAND SQUARE FEET']),max(nyc_new['LAND SQUARE FEET']),range_land)"
   ]
  },
  {
   "cell_type": "code",
   "execution_count": 35,
   "id": "f6978405",
   "metadata": {},
   "outputs": [
    {
     "name": "stdout",
     "output_type": "stream",
     "text": [
      "0.0 3750565.0 3750565.0\n"
     ]
    }
   ],
   "source": [
    "# Menghitung jangkauan (nilai tertinggi - nilai terendah) GROSS SQUARE FEET (Gross Area)\n",
    "range_gross = np.ptp(nyc_new['GROSS SQUARE FEET'])\n",
    "print(min(nyc_new['GROSS SQUARE FEET']),max(nyc_new['GROSS SQUARE FEET']),range_gross)"
   ]
  },
  {
   "cell_type": "markdown",
   "id": "c9f9cff9",
   "metadata": {},
   "source": [
    "# Variance & Standard Deviation"
   ]
  },
  {
   "cell_type": "markdown",
   "id": "9f033a29",
   "metadata": {},
   "source": [
    "## Berapa Variance dan Standar Deviasi untuk setiap kolom numerik?"
   ]
  },
  {
   "cell_type": "code",
   "execution_count": 36,
   "id": "9e83ca2d",
   "metadata": {},
   "outputs": [
    {
     "name": "stdout",
     "output_type": "stream",
     "text": [
      "Residential Units Variance: 296.32\n",
      "Commercial Units Variance: 119.52\n",
      "Total Units Variance: 420.74\n",
      "Land Sq. Ft. Variance: 1128266993.09\n",
      "Gross Sq. Ft. Variance: 1122910128.36\n",
      "Sale Price Variance: 185277302488759.16\n"
     ]
    }
   ],
   "source": [
    "# Menghitung variasi nilai RESIDENTIAL UNIT\n",
    "var_res_units = np.var(nyc_new['RESIDENTIAL UNITS'], ddof=1)\n",
    "print('Residential Units Variance:', round(var_res_units,2))\n",
    "\n",
    "# Menghitung variasi nilai COMMERCIAL UNIT\n",
    "var_com_units = np.var(nyc_new['COMMERCIAL UNITS'], ddof=1)\n",
    "print('Commercial Units Variance:', round(var_com_units,2))\n",
    "\n",
    "# Menghitung variasi nilai TOTAL UNIT\n",
    "var_total_units = np.var(nyc_new['TOTAL UNITS'], ddof=1)\n",
    "print('Total Units Variance:', round(var_total_units,2))\n",
    "\n",
    "# Menghitung variasi nilai LAND SQUARE FEET\n",
    "var_land = np.var(nyc_new['LAND SQUARE FEET'], ddof=1)\n",
    "print('Land Sq. Ft. Variance:', round(var_land,2))\n",
    "\n",
    "# Menghitung variasi nilai GROSS SQUARE FEET\n",
    "var_gross = np.var(nyc_new['GROSS SQUARE FEET'], ddof=1)\n",
    "print('Gross Sq. Ft. Variance:', round(var_gross,2))\n",
    "\n",
    "# Menghitung variasi nilai SALE PRICE\n",
    "var_sale_price = np.var(nyc_new['SALE PRICE'], ddof=1)\n",
    "print('Sale Price Variance:', round(var_sale_price,2))"
   ]
  },
  {
   "cell_type": "code",
   "execution_count": 37,
   "id": "42d1f524",
   "metadata": {},
   "outputs": [
    {
     "name": "stdout",
     "output_type": "stream",
     "text": [
      "Residential Units Std: 17.21\n",
      "Commercial Units Std: 10.93\n",
      "Total Units Std: 20.51\n",
      "Land Sq. Ft. Std: 33589.69\n",
      "Gross Sq. Ft. Std: 33509.85\n",
      "Sale Price Std: 13611660.53\n"
     ]
    }
   ],
   "source": [
    "# Menghitung standar deviasi dari RESIDENTIAL UNIT\n",
    "std_res_units = var_res_units**0.5\n",
    "print('Residential Units Std:', round(std_res_units,2))\n",
    "\n",
    "# Menghitung standar deviasi dari COMMERCIAL UNIT\n",
    "std_com_units =  var_com_units**0.5\n",
    "print('Commercial Units Std:', round(std_com_units,2))\n",
    "\n",
    "# Menghitung standar deviasi dari TOTAL UNIT\n",
    "std_total_units =  var_total_units**0.5\n",
    "print('Total Units Std:', round(std_total_units,2))\n",
    "\n",
    "# Menghitung standar deviasi dari LAND SQUARE FEET\n",
    "std_land =  var_land**0.5\n",
    "print('Land Sq. Ft. Std:', round(std_land,2))\n",
    "\n",
    "# Menghitung standar deviasi dari GROSS SQUARE FEET\n",
    "std_gross =  var_gross**0.5\n",
    "print('Gross Sq. Ft. Std:', round(std_gross,2))\n",
    "\n",
    "# Menghitung standar deviasi dari SALE PRICE\n",
    "std_sale_price =  var_sale_price**0.5\n",
    "print('Sale Price Std:', round(std_sale_price,2))"
   ]
  },
  {
   "cell_type": "markdown",
   "id": "544dfc0a",
   "metadata": {},
   "source": [
    "# Probability Distribution"
   ]
  },
  {
   "cell_type": "markdown",
   "id": "a55dad5a",
   "metadata": {},
   "source": [
    "## Bagaimana Distribusi dari SALE PRICE di setiap Borough?"
   ]
  },
  {
   "cell_type": "code",
   "execution_count": 38,
   "id": "8de9d0fa",
   "metadata": {},
   "outputs": [
    {
     "data": {
      "image/png": "[encoded data removed]",
      "text/plain": [
       "<Figure size 800x400 with 1 Axes>"
      ]
     },
     "metadata": {},
     "output_type": "display_data"
    }
   ],
   "source": [
    "# lihat distribusi sale price dengan boroughnya adalah Manhattan\n",
    "plt.figure(figsize=(8,4))\n",
    "sns.histplot(nyc_new[nyc_new['BOROUGH'] == 'Manhattan']['SALE PRICE'])\n",
    "plt.title('Distribusi Sale Price Properti Manhattan')\n",
    "plt.show()"
   ]
  },
  {
   "cell_type": "code",
   "execution_count": 39,
   "id": "6b7a0fa7",
   "metadata": {},
   "outputs": [
    {
     "data": {
      "image/png": "[encoded data removed]",
      "text/plain": [
       "<Figure size 800x400 with 1 Axes>"
      ]
     },
     "metadata": {},
     "output_type": "display_data"
    }
   ],
   "source": [
    "# lihat distribusi sale price dengan boroughnya adalah Bronx\n",
    "plt.figure(figsize=(8,4))\n",
    "sns.histplot(nyc_new[nyc_new['BOROUGH'] == 'Bronx']['SALE PRICE'])\n",
    "plt.title('Distribusi Sale Price Properti Bronx')\n",
    "plt.show()"
   ]
  },
  {
   "cell_type": "code",
   "execution_count": null,
   "id": "935ba117",
   "metadata": {},
   "outputs": [],
   "source": [
    "# lihat distribusi sale price dengan boroughnya adalah Brooklyn\n",
    "plt.figure(figsize=(8,4))\n",
    "sns.histplot(nyc_new[nyc_new['BOROUGH'] == 'Brooklyn']['SALE PRICE'])\n",
    "plt.title('Distribusi Sale Price Properti Brooklyn')\n",
    "plt.show()"
   ]
  },
  {
   "cell_type": "code",
   "execution_count": null,
   "id": "9523cd21",
   "metadata": {},
   "outputs": [],
   "source": [
    "# lihat distribusi sale price dengan boroughnya adalah Queens\n",
    "plt.figure(figsize=(8,4))\n",
    "sns.histplot(nyc_new[nyc_new['BOROUGH'] == 'Queens']['SALE PRICE'])\n",
    "plt.title('Distribusi Sale Price Properti Queens')\n",
    "plt.show()"
   ]
  },
  {
   "cell_type": "code",
   "execution_count": null,
   "id": "1fd136b8",
   "metadata": {},
   "outputs": [],
   "source": [
    "# lihat distribusi sale price dengan boroughnya adalah Staten Island\n",
    "plt.figure(figsize=(8,4))\n",
    "sns.histplot(nyc_new[nyc_new['BOROUGH'] == 'Staten Island']['SALE PRICE'])\n",
    "plt.title('Distribusi Sale Price Properti Staten Island')\n",
    "plt.show()"
   ]
  },
  {
   "cell_type": "markdown",
   "id": "c712b099",
   "metadata": {},
   "source": [
    "Dari grafik di atas dapat dilihat bahwa distribusi penjualan/sale price secara keseluruhan di tiap borough tidak lah normal (Right-Skew/Positif Skew). Jika dilihat dari grafiknya kemungkinan data sale price ini berdistribusi exponential atau gamma. Dimana nilai sale price yang lebih kecil paling banyak muncul kemudian menurun frekuensinya seiring bertambahnya harga penjualan"
   ]
  },
  {
   "cell_type": "markdown",
   "id": "746c1037",
   "metadata": {},
   "source": [
    "# Confidence Interval"
   ]
  },
  {
   "cell_type": "markdown",
   "id": "691bb3e4",
   "metadata": {},
   "source": [
    "## Berapa rata-rata SALE PRICE populasi property MANHATTAN yang bukan transfer deeds dengan CI 95%?"
   ]
  },
  {
   "cell_type": "code",
   "execution_count": null,
   "id": "697afc50",
   "metadata": {},
   "outputs": [],
   "source": [
    "# data yang bukan trf deed dengan boroughnya adalah Manhattan\n",
    "non_trf = nyc[nyc['SALE PRICE'] != 0]\n",
    "non_trf_manhattan = non_trf[non_trf['BOROUGH'] == 'Manhattan']"
   ]
  },
  {
   "cell_type": "code",
   "execution_count": null,
   "id": "1318154e",
   "metadata": {},
   "outputs": [],
   "source": [
    "# lihat distribusi sale price dari data yang bukan trf deed dengan boroughnya adalah Manhattan\n",
    "plt.figure(figsize=(10,8))\n",
    "sns.histplot(non_trf_manhattan['SALE PRICE'])\n",
    "plt.title('Distribusi Sale Price Manhattan which is not transfer deeds')\n",
    "plt.show()"
   ]
  },
  {
   "cell_type": "markdown",
   "id": "3c65b4c4",
   "metadata": {},
   "source": [
    "Karena distribusinya tidak normal maka kita perlu mengimplementasikan Central limit theorem. "
   ]
  },
  {
   "cell_type": "code",
   "execution_count": null,
   "id": "bed70a0f",
   "metadata": {},
   "outputs": [],
   "source": [
    "# Cek apakah property di Manhattan ada yang di wariskan\n",
    "nyc_new[(nyc_new['BOROUGH'] == 'Manhattan') & (nyc_new['SALE PRICE'] == 0)]"
   ]
  },
  {
   "cell_type": "markdown",
   "id": "d5cd27d8",
   "metadata": {},
   "source": [
    "Karena pada data manhattan tidak ada sale price = 0 yang berarti tidak ada transfer deeds maka meannya sama dengan mean_manhattan pada question nomor 2"
   ]
  },
  {
   "cell_type": "code",
   "execution_count": null,
   "id": "9fb5c7c4",
   "metadata": {},
   "outputs": [],
   "source": [
    "mean_manhattan"
   ]
  },
  {
   "cell_type": "code",
   "execution_count": null,
   "id": "c6adc5fd",
   "metadata": {},
   "outputs": [],
   "source": [
    "# Menghitung standar deviasi dari sale pricenya\n",
    "std_nontrf_manhattan = non_trf_manhattan['SALE PRICE'].std()\n",
    "std_nontrf_manhattan"
   ]
  },
  {
   "cell_type": "markdown",
   "id": "0c7845aa",
   "metadata": {},
   "source": [
    "Kita akan mengambil 300 sampel masing-masing dari 3000 nilai acak. Untuk setiap sampel, kita akan menghitung rata-rata sampel. Kemudian menyimpan semua sample means tersebut dalam list sample_means."
   ]
  },
  {
   "cell_type": "code",
   "execution_count": null,
   "id": "733af4fa",
   "metadata": {},
   "outputs": [],
   "source": [
    "sample_means = []\n",
    "n = 3000\n",
    "for sample in range(0, 300):\n",
    "    sample_values = np.random.choice(a=non_trf_manhattan['SALE PRICE'], size=n)    \n",
    "    sample_mean = np.mean(sample_values)\n",
    "    sample_means.append(sample_mean)"
   ]
  },
  {
   "cell_type": "code",
   "execution_count": null,
   "id": "9c92c758",
   "metadata": {},
   "outputs": [],
   "source": [
    "# lihat distribusi sample means sale price dari data yang bukan trf deed dengan boroughnya adalah Manhattan\n",
    "plt.figure(figsize=(10,8))\n",
    "sns.histplot(sample_means)\n",
    "plt.title(\"Distribusi Sample Means ($n=3000$) dari Sale Price Manhattan Properti yang bukan transfer deeds\", y=1.015, fontsize=10, pad=20)\n",
    "plt.xlabel(\"sample mean sale price\", labelpad=14)\n",
    "plt.ylabel(\"frequency of occurence\", labelpad=14)\n",
    "plt.show"
   ]
  },
  {
   "cell_type": "code",
   "execution_count": null,
   "id": "438811ad",
   "metadata": {},
   "outputs": [],
   "source": [
    "scipy.stats.skew(sample_means, bias=False)"
   ]
  },
  {
   "cell_type": "markdown",
   "id": "5ae705f2",
   "metadata": {},
   "source": [
    "Berdasarkan central limit theorem, pengambilan sampel dengan n = 3000 akan menghasilkan distribusi sample means yang mendekati normal (skewnessnya mendekati 0 yang berarti hampir simetris)"
   ]
  },
  {
   "cell_type": "code",
   "execution_count": null,
   "id": "0835e08e",
   "metadata": {},
   "outputs": [],
   "source": [
    "# Menghitung Median dari Sample Means\n",
    "median_of_sample_means = np.median(sample_means)\n",
    "median_of_sample_means"
   ]
  },
  {
   "cell_type": "code",
   "execution_count": null,
   "id": "577408da",
   "metadata": {},
   "outputs": [],
   "source": [
    "# Menghitung Mean dari Sample Means\n",
    "mean_of_sample_means = np.mean(sample_means)\n",
    "mean_of_sample_means"
   ]
  },
  {
   "cell_type": "code",
   "execution_count": null,
   "id": "97f9585a",
   "metadata": {},
   "outputs": [],
   "source": [
    "# Mean populasi, Mean Sample\n",
    "mean_manhattan, mean_of_sample_means"
   ]
  },
  {
   "cell_type": "code",
   "execution_count": null,
   "id": "1fdd0f53",
   "metadata": {},
   "outputs": [],
   "source": [
    "# Menghitung Standar Deviasi dari Sample Means\n",
    "std_dev_of_sample_means = np.std(sample_means)\n",
    "std_dev_of_sample_means"
   ]
  },
  {
   "cell_type": "markdown",
   "id": "c0f1f0cd",
   "metadata": {},
   "source": [
    "Standard deviation dari sample means lebih sering disebut standard error (SE). Persamaan untuk standard error adalah:\n",
    "\n",
    "SE=σ/√n\n",
    "\n",
    "σ is population standard deviation\n",
    "n is sample size"
   ]
  },
  {
   "cell_type": "code",
   "execution_count": null,
   "id": "1deab3fa",
   "metadata": {},
   "outputs": [],
   "source": [
    "# Menghitung Standar error dengan rumus di atas\n",
    "standard_error = std_nontrf_manhattan/np.sqrt(n)\n",
    "standard_error"
   ]
  },
  {
   "cell_type": "markdown",
   "id": "4887b63d",
   "metadata": {},
   "source": [
    "Nilai standard error (1,6 jt) ini hampir sama dengan nilai yang dihitung di atas untuk std_dev_of_sample_means (1,7 jt)"
   ]
  },
  {
   "cell_type": "code",
   "execution_count": null,
   "id": "c9148a93",
   "metadata": {},
   "outputs": [],
   "source": [
    "# z-score untuk 95%\n",
    "z_score = 1.96\n",
    "\n",
    "# batas bawah confidence interval\n",
    "lower_95_perc_bound = mean_of_sample_means - (z_score*standard_error)\n",
    "\n",
    "# batas atas confidence interval\n",
    "upper_95_perc_bound = mean_of_sample_means + (z_score*standard_error)\n",
    "\n",
    "lower_95_perc_bound, upper_95_perc_bound"
   ]
  },
  {
   "cell_type": "markdown",
   "id": "c5c69be9",
   "metadata": {},
   "source": [
    "CI 95% menyatakan bahwa rata-rata SALE PRICE dari populasi MANHATTAN yang bukan transfer deeds berkisar antara 16 juta (16,700,360.32193017) hingga 23 juta (23,110,033.384172052) USD"
   ]
  },
  {
   "cell_type": "markdown",
   "id": "df4f0924",
   "metadata": {},
   "source": [
    "# Hipotesis"
   ]
  },
  {
   "cell_type": "markdown",
   "id": "7861f9dd",
   "metadata": {},
   "source": [
    "## Apakah penjualan property di Bronx lebih tinggi secara signifikan daripada di Brooklyn pada tahun 2016-2017?"
   ]
  },
  {
   "cell_type": "markdown",
   "id": "c4649cff",
   "metadata": {},
   "source": [
    "****Null dan Alternatif Hipotesis****"
   ]
  },
  {
   "cell_type": "markdown",
   "id": "417b8dc1",
   "metadata": {},
   "source": [
    "ho => penjualan property Bronx >= penjualan property Brooklyn (null hypothesis)\n",
    "ha => penjualan property Bronx < penjualan property Brooklyn"
   ]
  },
  {
   "cell_type": "markdown",
   "id": "3f89a345",
   "metadata": {},
   "source": [
    "**Calculate rata-rata penjualan property Bronx, rata-rata penjualan property Brooklyn**"
   ]
  },
  {
   "cell_type": "code",
   "execution_count": null,
   "id": "b2bcfcf2",
   "metadata": {},
   "outputs": [],
   "source": [
    "# rata-rata penjualan property di Bronx\n",
    "mean_bronx"
   ]
  },
  {
   "cell_type": "code",
   "execution_count": null,
   "id": "4cfad80f",
   "metadata": {},
   "outputs": [],
   "source": [
    "# rata-rata penjualan property di Brooklyn\n",
    "mean_brooklyn"
   ]
  },
  {
   "cell_type": "markdown",
   "id": "7acc636f",
   "metadata": {},
   "source": [
    "Hasil kalkulasi rata-rata penjualan property di Bronx lebih kecil dari Manhattan dengan rata-rata Bronx 606854.0187655769 dan Brooklyn 850984.8985245408. tetapi apakah nilainya berbeda secara signifikan?"
   ]
  },
  {
   "cell_type": "code",
   "execution_count": null,
   "id": "3afc37a9",
   "metadata": {},
   "outputs": [],
   "source": [
    "# data dengan borough Bronx dan data dengan borough Brooklyn\n",
    "bronx = nyc_new[nyc_new['BOROUGH'] == 'Bronx']\n",
    "brooklyn = nyc_new[nyc_new['BOROUGH'] == 'Brooklyn']"
   ]
  },
  {
   "cell_type": "code",
   "execution_count": null,
   "id": "f3b69016",
   "metadata": {},
   "outputs": [],
   "source": [
    "# menghitung ztest dan mendapatkan nilai p value\n",
    "sm.stats.ztest(bronx[\"SALE PRICE\"], brooklyn[\"SALE PRICE\"],alternative='two-sided')"
   ]
  },
  {
   "cell_type": "markdown",
   "id": "f226970a",
   "metadata": {},
   "source": [
    "Karena p-value (2.4169e-06) kecil dari alpha (0.05), kita dapat reject null hypothesis bahwa rata-rata penjualan properti di Bronx lebih besar dan sama dengan rata-rata penjualan properti di Brooklyn. Sehingga rata-rata Bronx 606854.0187655769 kurang dari rata-rata Brooklyn yaitu 850984.8985245408"
   ]
  },
  {
   "cell_type": "markdown",
   "id": "e6e24f68",
   "metadata": {},
   "source": [
    "## Overall Analysis"
   ]
  },
  {
   "cell_type": "markdown",
   "id": "636a2e06",
   "metadata": {},
   "source": [
    "Berdasarkan data yang telah diobservasi didapatkan informasi sebagai berikut:\n",
    "\n",
    "- Rata-rata Penjualan (SALE PRICE) tertinggi ada di penjualan properti di Manhattan dan terendah di Staten Island\n",
    "- Rata-rata penjualan untuk data yang bukan transfer deeds atau bukan warisan/turun-temurun adalah 1,520,569.823515197 (1,5jt)\n",
    "- Rata-rata luas area land properti untuk daerah Bronx lebih besar daripada Brooklyn\n",
    "- Data dengan borough Brooklyn dan building class 'BEDFORD STUYVESANT'  muncul paling banyak di dataset ini.\n",
    "- Penjualan properti dengan TAX CLASS 4 memiliki rata-rata penjualan yang lebih tinggi daripada kelas yang lainnya (Kelas 4 : Termasuk semua properti lain yang tidak termasuk dalam kelas 1,2, dan 3, seperti kantor, pabrik, gudang, gedung garasi, dll.)\n",
    "\n"
   ]
  }
 ],
 "metadata": {
  "kernelspec": {
   "display_name": "Python 3 (ipykernel)",
   "language": "python",
   "name": "python3"
  },
  "language_info": {
   "codemirror_mode": {
    "name": "ipython",
    "version": 3
   },
   "file_extension": ".py",
   "mimetype": "text/x-python",
   "name": "python",
   "nbconvert_exporter": "python",
   "pygments_lexer": "ipython3",
   "version": "3.8.6"
  },
  "toc": {
   "base_numbering": 1,
   "nav_menu": {},
   "number_sections": true,
   "sideBar": true,
   "skip_h1_title": false,
   "title_cell": "Table of Contents",
   "title_sidebar": "Contents",
   "toc_cell": false,
   "toc_position": {},
   "toc_section_display": true,
   "toc_window_display": false
  }
 },
 "nbformat": 4,
 "nbformat_minor": 5
}
